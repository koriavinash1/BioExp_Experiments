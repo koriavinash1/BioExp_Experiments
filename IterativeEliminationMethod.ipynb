{
 "cells": [
  {
   "cell_type": "code",
   "execution_count": null,
   "metadata": {},
   "outputs": [],
   "source": [
    "# imports\n",
    "import sys\n",
    "sys.path.append('../BioExp')\n",
    "import keras\n",
    "import numpy as np\n",
    "import tensorflow as tf\n",
    "from keras.models import load_model\n",
    "import pandas as pd\n",
    "import os\n",
    "import pickle\n",
    "\n",
    "from keras.backend.tensorflow_backend import set_session\n",
    "from BioExp.helpers.metrics import *\n",
    "from BioExp.helpers.losses import *"
   ]
  },
  {
   "cell_type": "code",
   "execution_count": null,
   "metadata": {},
   "outputs": [],
   "source": [
    "from keras import backend as K\n",
    "K.tensorflow_backend._get_available_gpus()"
   ]
  },
  {
   "cell_type": "code",
   "execution_count": null,
   "metadata": {},
   "outputs": [],
   "source": [
    "# GPU setup\n",
    "os.environ[\"CUDA_DEVICE_ORDER\"] = \"PCI_BUS_ID\"\n",
    "os.environ[\"CUDA_VISIBLE_DEVICES\"] = \"0\"\n",
    "\n",
    "config = tf.ConfigProto()\n",
    "config.gpu_options.per_process_gpu_memory_fraction = 0.5\n",
    "set_session(tf.Session(config=config))"
   ]
  },
  {
   "cell_type": "markdown",
   "metadata": {},
   "source": [
    "This method is inspired by IESDS method in game theory, where each and every stratergy fights for its survival. In this approach we generate concepts by clustering the weights in predefined layers of the network.\n",
    "\n",
    "Now at initial step all the concepts are considered are of equal importance, and the relevance matrix is generated. Based on relevance matric one of more concepts are eliminated and the entire process if repeated till convergance.\n",
    "\n",
    "By doing this we end with more robust and more important features responsible for higher dice of classification score.\n",
    "\n",
    "Initial test on Brats with SimUnet model, trained model scores are depected bellow:\n",
    "\n",
    "\n",
    "| Model Type |     WT Dice | TC Dice  | ET Dice|\n",
    "|------------|:------------|:---------|:-------|\n",
    "| DenseUnet  |     0.830   | 0.760    | 0.685  |\n",
    "| ResUnet    |     0.788   | 0.734    | 0.649  |\n",
    "| SimUnet    |     0.743   | 0.693    | 0.523  |\n"
   ]
  },
  {
   "cell_type": "code",
   "execution_count": null,
   "metadata": {
    "scrolled": true
   },
   "outputs": [],
   "source": [
    "# model and parameter defn\n",
    "# currently using simple U-net\n",
    "\n",
    "seq_map = {'flair': 0, 't1': 1, 't2': 3, 't1c':2}\n",
    "seq = 'flair'\n",
    "\n",
    "model_path        = '../BioExp/saved_models/model_{}_scaled/model-archi.h5'.format(seq)\n",
    "weights_path      = '../BioExp/saved_models/model_{}_scaled/model-wts-{}.hdf5'.format(seq, seq)\n",
    "\n",
    "layers_to_consider = ['conv2d_2', 'conv2d_3', 'conv2d_4', 'conv2d_5', 'conv2d_6','conv2d_7', 'conv2d_8', 'conv2d_9',\\\n",
    "                      'conv2d_10', 'conv2d_11', 'conv2d_12', 'conv2d_13', 'conv2d_14', 'conv2d_15', 'conv2d_16',\\\n",
    "                       'conv2d_17','conv2d_18', 'conv2d_19', 'conv2d_20', 'conv2d_21']\n",
    "\n",
    "\n",
    "model = load_model(model_path, custom_objects={'gen_dice_loss':gen_dice_loss,\n",
    "                                'dice_whole_metric':dice_whole_metric,\n",
    "                                'dice_core_metric':dice_core_metric,\n",
    "                                'dice_en_metric':dice_en_metric})\n",
    "model.load_weights(weights_path)\n",
    "model.summary()"
   ]
  },
  {
   "cell_type": "code",
   "execution_count": null,
   "metadata": {},
   "outputs": [],
   "source": [
    "from BioExp.clusters import clusters\n",
    "\n",
    "concept_info = []\n",
    "node = 0\n",
    "\n",
    "save_root = './Logs/DiceGraphs/{}/weights_cluster/'.format(seq)\n",
    "for layer_name in layers_to_consider:\n",
    "    save_path = os.path.join(save_root, layer_name)\n",
    "    os.makedirs(save_path, exist_ok = True)\n",
    "    \n",
    "    C = clusters.Cluster(model, weights_path, layer_name)\n",
    "    labels = C.get_clusters(threshold = 0.5, save_path=save_path)\n",
    "    C.plot_weights(labels, os.path.join(save_path, 'wt-samples'))\n",
    "    \n",
    "    for label in np.unique(labels):\n",
    "        nodename = 'node_{}'.format(node)\n",
    "        layername = layer_name\n",
    "        fidxs = np.where(labels==label)[0]\n",
    "        info = {'concept_name': nodename, \n",
    "                  'layer_name': layername, \n",
    "                 'filter_idxs': fidxs}\n",
    "        concept_info.append(info)\n",
    "        node += 1\n",
    "        \n",
    "with open(os.path.join(save_root, 'cluster_info.cpickle'), 'wb') as file:\n",
    "    pickle.dump(concept_info, file)"
   ]
  },
  {
   "cell_type": "markdown",
   "metadata": {},
   "source": [
    "-------------\n",
    "### Delta Graph\n",
    "\n",
    "$$AM[C^p_i, C^q_j] = \\mathbb{E}_{(x, gt)\\sim Data} \\left (DICE(~ \\Phi(x), GT) - DICE(~ \\Phi(x ~|~~ do(C^p_i = 0), ~~do(C^q_j = 0)), GT) \\right)$$\n",
    "\n",
    "This is an idea to estimate the importance of two concepts by interventional probability, i.e. finding the effect of pair of concepts by calculating dice difference with and without those pairs of concepts. In the above equation the importance of concepts $C^p_i$ and $C^q_j$ are obtained by calculating difference in dice with and without them.\n"
   ]
  },
  {
   "cell_type": "code",
   "execution_count": null,
   "metadata": {},
   "outputs": [],
   "source": [
    "from BioExp.helpers import utils\n",
    "from BioExp.graphs import delta\n",
    "\n",
    "metric = dice_label_coef # defined in BioExp.helpers.metrics\n",
    "\n",
    "def dataloader(nslice = 78):\n",
    "    def loader(img_path, mask_path):\n",
    "        image, gt =  utils.load_vol_brats(img_path, slicen=nslice)\n",
    "        return image[:,:, seq_map[seq]][:,:, None], gt\n",
    "    return loader\n",
    "\n",
    "data_root_path = '../BioExp/sample_vol/brats/'\n",
    "\n",
    "infoclasses = {}\n",
    "# for i in range(4): infoclasses['class_'+str(i)] = (i,)\n",
    "infoclasses['whole'] = (1,2,3,)\n",
    "infoclasses['ET'] = (3,)\n",
    "infoclasses['CT'] = (1,3,)\n",
    "\n",
    "G = delta.DeltaGraph(model, weights_path, metric, classinfo = infoclasses)\n",
    "\n",
    "save_root = './Logs/DiceGraphs/{}/weights_cluster/'.format(seq)\n",
    "with open(os.path.join(save_root, 'cluster_info.cpickle'), 'rb') as file:\n",
    "    concepts_info = pickle.load(file)"
   ]
  },
  {
   "cell_type": "code",
   "execution_count": null,
   "metadata": {
    "scrolled": true
   },
   "outputs": [],
   "source": [
    "# Generate graph AM\n",
    "save_path =  './Logs/DiceGraphs/{}'.format(seq)\n",
    "AM = G.generate_graph(concepts_info, \n",
    "                 dataset_path = data_root_path, \n",
    "                 loader = dataloader(), \n",
    "                 save_path = save_path)\n",
    "\n",
    "save_root = './Logs/DiceGraphs/{}/'.format(seq)\n",
    "with open(os.path.join(save_root, 'Graph_AMs.cpickle'), 'wb') as file:\n",
    "    pickle.dump(AM, file)"
   ]
  },
  {
   "cell_type": "code",
   "execution_count": null,
   "metadata": {
    "scrolled": true
   },
   "outputs": [],
   "source": [
    "import matplotlib.pyplot as plt\n",
    "from pprint import pprint\n",
    "%matplotlib inline\n",
    "\n",
    "save_root = './Logs/DiceGraphs/{}/'.format(seq)\n",
    "with open(os.path.join(save_root, 'Graph_AMs.cpickle'), 'rb') as file:\n",
    "    AM = pickle.load(file)\n",
    "\n",
    "for class_ in infoclasses.keys():\n",
    "    print (\"========{}=======\".format(class_))\n",
    "    plt.clf()\n",
    "    plt.imshow(AM[class_], cmap ='jet', vmin = 0, vmax = 1)\n",
    "    plt.colorbar()\n",
    "    plt.savefig(os.path.join(save_root, class_+'.png'), dpi=2000, bbox_inches=\"tight\")\n",
    "    plt.show()\n",
    "\n",
    "\n",
    "significance = G.node_significance(concepts_info, dataset_path = data_root_path, loader = dataloader(), save_path = save_root)\n",
    "pprint(significance)"
   ]
  },
  {
   "cell_type": "code",
   "execution_count": null,
   "metadata": {
    "scrolled": true
   },
   "outputs": [],
   "source": [
    "# modify concepts info\n",
    "new_nodes = []\n",
    "T = 0.1\n",
    "class_ = 'whole'\n",
    "M = np.array(AM[class_])\n",
    "\n",
    "for nx in range(M.shape[0]):\n",
    "    for ny in range(nx):\n",
    "        if M[nx, ny] < T: continue\n",
    "        elif M[nx, ny] > T:\n",
    "            if (M[nx, nx] > T) or (M[ny, ny] > T):\n",
    "                if M[nx, nx] > T:\n",
    "                    new_nodes.append(nx)\n",
    "                if M[ny, ny] > T:\n",
    "                    new_nodes.append(ny)\n",
    "            \n",
    "\n",
    "new_nodes = np.sort(np.unique(new_nodes))\n",
    "print (np.array(AM[class_])[:, new_nodes][new_nodes, :].shape)\n",
    "for class_ in infoclasses.keys():\n",
    "    print (\"========{}=======\".format(class_))\n",
    "    plt.clf()\n",
    "    plt.imshow(np.array(AM[class_])[:, new_nodes][new_nodes, :], cmap ='jet', vmin = 0, vmax = 1)\n",
    "    plt.colorbar()\n",
    "    plt.savefig(os.path.join(save_root, 'modified_' +class_+'.png'), dpi=2000, bbox_inches=\"tight\")\n",
    "    plt.show()"
   ]
  },
  {
   "cell_type": "code",
   "execution_count": null,
   "metadata": {},
   "outputs": [],
   "source": []
  }
 ],
 "metadata": {
  "kernelspec": {
   "display_name": "Python 3",
   "language": "python",
   "name": "python3"
  },
  "language_info": {
   "codemirror_mode": {
    "name": "ipython",
    "version": 3
   },
   "file_extension": ".py",
   "mimetype": "text/x-python",
   "name": "python",
   "nbconvert_exporter": "python",
   "pygments_lexer": "ipython3",
   "version": "3.6.9"
  }
 },
 "nbformat": 4,
 "nbformat_minor": 4
}
