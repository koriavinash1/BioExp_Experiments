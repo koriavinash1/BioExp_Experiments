{
 "cells": [
  {
   "cell_type": "code",
   "execution_count": 1,
   "metadata": {},
   "outputs": [],
   "source": [
    "# ipython settings\n",
    "%load_ext autoreload\n",
    "%autoreload 2"
   ]
  },
  {
   "cell_type": "code",
   "execution_count": 2,
   "metadata": {},
   "outputs": [
    {
     "name": "stderr",
     "output_type": "stream",
     "text": [
      "Using TensorFlow backend.\n",
      "/home/parth/miniconda3/envs/dl/lib/python3.6/site-packages/tensorflow/python/framework/dtypes.py:523: FutureWarning: Passing (type, 1) or '1type' as a synonym of type is deprecated; in a future version of numpy, it will be understood as (type, (1,)) / '(1,)type'.\n",
      "  _np_qint8 = np.dtype([(\"qint8\", np.int8, 1)])\n",
      "/home/parth/miniconda3/envs/dl/lib/python3.6/site-packages/tensorflow/python/framework/dtypes.py:524: FutureWarning: Passing (type, 1) or '1type' as a synonym of type is deprecated; in a future version of numpy, it will be understood as (type, (1,)) / '(1,)type'.\n",
      "  _np_quint8 = np.dtype([(\"quint8\", np.uint8, 1)])\n",
      "/home/parth/miniconda3/envs/dl/lib/python3.6/site-packages/tensorflow/python/framework/dtypes.py:525: FutureWarning: Passing (type, 1) or '1type' as a synonym of type is deprecated; in a future version of numpy, it will be understood as (type, (1,)) / '(1,)type'.\n",
      "  _np_qint16 = np.dtype([(\"qint16\", np.int16, 1)])\n",
      "/home/parth/miniconda3/envs/dl/lib/python3.6/site-packages/tensorflow/python/framework/dtypes.py:526: FutureWarning: Passing (type, 1) or '1type' as a synonym of type is deprecated; in a future version of numpy, it will be understood as (type, (1,)) / '(1,)type'.\n",
      "  _np_quint16 = np.dtype([(\"quint16\", np.uint16, 1)])\n",
      "/home/parth/miniconda3/envs/dl/lib/python3.6/site-packages/tensorflow/python/framework/dtypes.py:527: FutureWarning: Passing (type, 1) or '1type' as a synonym of type is deprecated; in a future version of numpy, it will be understood as (type, (1,)) / '(1,)type'.\n",
      "  _np_qint32 = np.dtype([(\"qint32\", np.int32, 1)])\n",
      "/home/parth/miniconda3/envs/dl/lib/python3.6/site-packages/tensorflow/python/framework/dtypes.py:532: FutureWarning: Passing (type, 1) or '1type' as a synonym of type is deprecated; in a future version of numpy, it will be understood as (type, (1,)) / '(1,)type'.\n",
      "  np_resource = np.dtype([(\"resource\", np.ubyte, 1)])\n"
     ]
    }
   ],
   "source": [
    "# imports\n",
    "import sys\n",
    "sys.path.append('../BioExp')\n",
    "import keras\n",
    "import numpy as np\n",
    "import tensorflow as tf\n",
    "from keras.models import load_model\n",
    "import pandas as pd\n",
    "import os\n",
    "import pickle\n",
    "\n",
    "from keras.backend.tensorflow_backend import set_session\n",
    "from BioExp.helpers.metrics import *\n",
    "from BioExp.helpers.losses import *"
   ]
  },
  {
   "cell_type": "code",
   "execution_count": 3,
   "metadata": {},
   "outputs": [
    {
     "data": {
      "text/plain": [
       "['/job:localhost/replica:0/task:0/device:GPU:0']"
      ]
     },
     "execution_count": 3,
     "metadata": {},
     "output_type": "execute_result"
    }
   ],
   "source": [
    "from keras import backend as K\n",
    "K.tensorflow_backend._get_available_gpus()"
   ]
  },
  {
   "cell_type": "code",
   "execution_count": 4,
   "metadata": {},
   "outputs": [],
   "source": [
    "# GPU setup\n",
    "os.environ[\"CUDA_DEVICE_ORDER\"] = \"PCI_BUS_ID\"\n",
    "os.environ[\"CUDA_VISIBLE_DEVICES\"] = \"0\"\n",
    "\n",
    "config = tf.ConfigProto()\n",
    "config.gpu_options.per_process_gpu_memory_fraction = 0.9\n",
    "set_session(tf.Session(config=config))"
   ]
  },
  {
   "cell_type": "markdown",
   "metadata": {},
   "source": [
    "![network_used](./imgs/networks.jpg)\n",
    "\n",
    "\n",
    "Causal analysis for deep learning provides us the information about how the information is flowing in the network, Providing glimpses into the internals of such a network to provide a *trace of its inference steps* [citep](holzinger2017we) would go at least some way to elucidating exactly how the network makes its decisions, providing a measure of legitimacy.\n",
    "\n",
    "For a brain tumor segmentation model, such methods might provide details on how information flows through the model and how the model is organized. For example, it might help in understanding how the model represents goes about detecting tumors and all the concepts involved in it.\n",
    "\n",
    "We implement our pipeline on three different 2D brain tumor segmentation models descibed above - a Unet model with a densenet121 encoder (Henceforth referred to as the DenseUnet) [citep](shaikh2017brain), a Unet model with a ResNet encoder (ResUnet) [citep](kermi2018deep), and a simple encoder-decoder network which has a similar architecture to the ResUnet but without skip or residual connections (SimUnet). All models were trained till convergence on the BraTS 2018 dataset [cite](menze2014multimodal). A held out validation set of 48 volumes (including both LGG and HGG volumes) was used for testing. Below table shows the performance of the three models on this test set.\n",
    "\n",
    "\n",
    "| Model Type |     WT Dice | TC Dice  | ET Dice|\n",
    "|------------|:------------|:---------|:-------|\n",
    "| DenseUnet  |     0.830   | 0.760    | 0.685  |\n",
    "| ResUnet    |     0.788   | 0.734    | 0.649  |\n",
    "| SimUnet    |     0.743   | 0.693    | 0.523  |\n",
    "\n",
    "These models are not meant to achieve state of the art performance. Instead, we aim to demonstrate our methods on a set of models with different structures commonly used for brain tumor segmentation and compare them to better understand the process they take to segment the tumors. In this primary study, we do not use 3D models, since the visualization and analysis of interpretability related metrics is simpler for 2D models. Also, it is not clear how some of our results would scale to 3D models and whether it would be possible to visualize these. For example, disentangled concepts observed by performing network dissection might not be meaningful when visualized slice wise and would have to be visualized in 3D. This and the related analysis poses an additional layer of difficulty. "
   ]
  },
  {
   "cell_type": "code",
   "execution_count": 5,
   "metadata": {},
   "outputs": [],
   "source": [
    "# model and parameter defn\n",
    "# currently using simple U-net\n",
    "\n",
    "seq_map = {'flair': 0, 't1': 1, 't2': 3, 't1c':2}\n",
    "seq = 'flair'\n",
    "\n",
    "model_path        = '../saved_models/model_flair_scaled/model-archi.h5'\n",
    "weights_path      = '../saved_models/model_flair_scaled/model-wts-flair.hdf5'\n",
    "\n",
    "# layers_to_consider = ['conv2d_2', 'conv2d_3', 'conv2d_4', 'conv2d_5', 'conv2d_6','conv2d_7', 'conv2d_8', 'conv2d_9',\\\n",
    "#                       'conv2d_10', 'conv2d_11', 'conv2d_12', 'conv2d_13', 'conv2d_14', 'conv2d_15', 'conv2d_16',\\\n",
    "#                        'conv2d_17','conv2d_18', 'conv2d_19', 'conv2d_20', 'conv2d_21']\n",
    "\n",
    "\n",
    "layers_to_consider = ['conv2d_13', 'conv2d_15','conv2d_17',  'conv2d_19', 'conv2d_11']\n",
    "\n",
    "model = load_model(model_path, custom_objects={'gen_dice_loss':gen_dice_loss,\n",
    "                                'dice_whole_metric':dice_whole_metric,\n",
    "                                'dice_core_metric':dice_core_metric,\n",
    "                                'dice_en_metric':dice_en_metric})\n",
    "model.load_weights(weights_path)\n"
   ]
  },
  {
   "cell_type": "code",
   "execution_count": 6,
   "metadata": {
    "scrolled": true
   },
   "outputs": [
    {
     "name": "stdout",
     "output_type": "stream",
     "text": [
      "_________________________________________________________________\n",
      "Layer (type)                 Output Shape              Param #   \n",
      "=================================================================\n",
      "input_1 (InputLayer)         (None, 240, 240, 1)       0         \n",
      "_________________________________________________________________\n",
      "gaussian_noise_1 (GaussianNo (None, 240, 240, 1)       0         \n",
      "_________________________________________________________________\n",
      "conv2d_1 (Conv2D)            (None, 240, 240, 64)      320       \n",
      "_________________________________________________________________\n",
      "batch_normalization_1 (Batch (None, 240, 240, 64)      256       \n",
      "_________________________________________________________________\n",
      "activation_1 (Activation)    (None, 240, 240, 64)      0         \n",
      "_________________________________________________________________\n",
      "conv2d_2 (Conv2D)            (None, 240, 240, 64)      36928     \n",
      "_________________________________________________________________\n",
      "batch_normalization_2 (Batch (None, 240, 240, 64)      256       \n",
      "_________________________________________________________________\n",
      "activation_2 (Activation)    (None, 240, 240, 64)      0         \n",
      "_________________________________________________________________\n",
      "conv2d_3 (Conv2D)            (None, 240, 240, 64)      36928     \n",
      "_________________________________________________________________\n",
      "conv2d_4 (Conv2D)            (None, 120, 120, 128)     32896     \n",
      "_________________________________________________________________\n",
      "batch_normalization_3 (Batch (None, 120, 120, 128)     512       \n",
      "_________________________________________________________________\n",
      "activation_3 (Activation)    (None, 120, 120, 128)     0         \n",
      "_________________________________________________________________\n",
      "conv2d_5 (Conv2D)            (None, 120, 120, 128)     147584    \n",
      "_________________________________________________________________\n",
      "batch_normalization_4 (Batch (None, 120, 120, 128)     512       \n",
      "_________________________________________________________________\n",
      "activation_4 (Activation)    (None, 120, 120, 128)     0         \n",
      "_________________________________________________________________\n",
      "conv2d_6 (Conv2D)            (None, 120, 120, 128)     147584    \n",
      "_________________________________________________________________\n",
      "conv2d_7 (Conv2D)            (None, 60, 60, 256)       131328    \n",
      "_________________________________________________________________\n",
      "batch_normalization_5 (Batch (None, 60, 60, 256)       1024      \n",
      "_________________________________________________________________\n",
      "activation_5 (Activation)    (None, 60, 60, 256)       0         \n",
      "_________________________________________________________________\n",
      "conv2d_8 (Conv2D)            (None, 60, 60, 256)       590080    \n",
      "_________________________________________________________________\n",
      "batch_normalization_6 (Batch (None, 60, 60, 256)       1024      \n",
      "_________________________________________________________________\n",
      "activation_6 (Activation)    (None, 60, 60, 256)       0         \n",
      "_________________________________________________________________\n",
      "conv2d_9 (Conv2D)            (None, 60, 60, 256)       590080    \n",
      "_________________________________________________________________\n",
      "conv2d_10 (Conv2D)           (None, 30, 30, 512)       524800    \n",
      "_________________________________________________________________\n",
      "batch_normalization_7 (Batch (None, 30, 30, 512)       2048      \n",
      "_________________________________________________________________\n",
      "activation_7 (Activation)    (None, 30, 30, 512)       0         \n",
      "_________________________________________________________________\n",
      "conv2d_11 (Conv2D)           (None, 30, 30, 512)       2359808   \n",
      "_________________________________________________________________\n",
      "batch_normalization_8 (Batch (None, 30, 30, 512)       2048      \n",
      "_________________________________________________________________\n",
      "activation_8 (Activation)    (None, 30, 30, 512)       0         \n",
      "_________________________________________________________________\n",
      "conv2d_12 (Conv2D)           (None, 30, 30, 512)       2359808   \n",
      "_________________________________________________________________\n",
      "up_sampling2d_1 (UpSampling2 (None, 60, 60, 512)       0         \n",
      "_________________________________________________________________\n",
      "conv2d_13 (Conv2D)           (None, 60, 60, 256)       524544    \n",
      "_________________________________________________________________\n",
      "batch_normalization_9 (Batch (None, 60, 60, 256)       1024      \n",
      "_________________________________________________________________\n",
      "activation_9 (Activation)    (None, 60, 60, 256)       0         \n",
      "_________________________________________________________________\n",
      "conv2d_14 (Conv2D)           (None, 60, 60, 256)       590080    \n",
      "_________________________________________________________________\n",
      "batch_normalization_10 (Batc (None, 60, 60, 256)       1024      \n",
      "_________________________________________________________________\n",
      "activation_10 (Activation)   (None, 60, 60, 256)       0         \n",
      "_________________________________________________________________\n",
      "conv2d_15 (Conv2D)           (None, 60, 60, 256)       590080    \n",
      "_________________________________________________________________\n",
      "up_sampling2d_2 (UpSampling2 (None, 120, 120, 256)     0         \n",
      "_________________________________________________________________\n",
      "conv2d_16 (Conv2D)           (None, 120, 120, 128)     131200    \n",
      "_________________________________________________________________\n",
      "batch_normalization_11 (Batc (None, 120, 120, 128)     512       \n",
      "_________________________________________________________________\n",
      "activation_11 (Activation)   (None, 120, 120, 128)     0         \n",
      "_________________________________________________________________\n",
      "conv2d_17 (Conv2D)           (None, 120, 120, 128)     147584    \n",
      "_________________________________________________________________\n",
      "batch_normalization_12 (Batc (None, 120, 120, 128)     512       \n",
      "_________________________________________________________________\n",
      "activation_12 (Activation)   (None, 120, 120, 128)     0         \n",
      "_________________________________________________________________\n",
      "conv2d_18 (Conv2D)           (None, 120, 120, 128)     147584    \n",
      "_________________________________________________________________\n",
      "up_sampling2d_3 (UpSampling2 (None, 240, 240, 128)     0         \n",
      "_________________________________________________________________\n",
      "conv2d_19 (Conv2D)           (None, 240, 240, 64)      32832     \n",
      "_________________________________________________________________\n",
      "batch_normalization_13 (Batc (None, 240, 240, 64)      256       \n",
      "_________________________________________________________________\n",
      "activation_13 (Activation)   (None, 240, 240, 64)      0         \n",
      "_________________________________________________________________\n",
      "conv2d_20 (Conv2D)           (None, 240, 240, 64)      36928     \n",
      "_________________________________________________________________\n",
      "batch_normalization_14 (Batc (None, 240, 240, 64)      256       \n",
      "_________________________________________________________________\n",
      "activation_14 (Activation)   (None, 240, 240, 64)      0         \n",
      "_________________________________________________________________\n",
      "conv2d_21 (Conv2D)           (None, 240, 240, 64)      36928     \n",
      "_________________________________________________________________\n",
      "batch_normalization_15 (Batc (None, 240, 240, 64)      256       \n",
      "_________________________________________________________________\n",
      "p_re_lu_1 (PReLU)            (None, 240, 240, 64)      64        \n",
      "_________________________________________________________________\n",
      "conv2d_22 (Conv2D)           (None, 240, 240, 4)       260       \n",
      "_________________________________________________________________\n",
      "activation_15 (Activation)   (None, 240, 240, 4)       0         \n",
      "=================================================================\n",
      "Total params: 9,207,748\n",
      "Trainable params: 9,201,988\n",
      "Non-trainable params: 5,760\n",
      "_________________________________________________________________\n"
     ]
    }
   ],
   "source": [
    "model.summary()"
   ]
  },
  {
   "cell_type": "markdown",
   "metadata": {},
   "source": [
    "## Proposed method\n",
    "![pipeline](./imgs/graph.png)\n",
    "The above figure illustrates the framework proposed for interpretability of deep learning models. According to which the we\n",
    "\n",
    "The proposed framework for understanding the deep learning models consists multiple steps, which consists (i) concept formation, (ii) concept significance analysis, (iii) concept identification, (iv) network formation, and (v) trail estimation. Above figure provides the detailed overview of the above framework.\n",
    "\n",
    "\n",
    "![pipeline](./imgs/pipeline2.png)"
   ]
  },
  {
   "cell_type": "markdown",
   "metadata": {},
   "source": [
    "--------------\n",
    "\n",
    "## Concept Formation\n",
    "\n",
    "It's observed that few weights are mainly responsible for detecting/encoding certain features in an image \\cite{}. In this work, we consider that assumption to group all the weights responsible for detecting certain features. Group of all the weights responsible for a particular feature forms in an individual cluster which encodes a particular human-understandable or non-understandable concept. Most of our further analysis considers these concepts at the core; this method of grouping weights makes interventional, and our interpretation steps more tractable for deep learning models. For faster inference, we make layer selection as a hyperparameter, i.e., we don't run inference on the entire network but select some layers and construct the links among the concepts between them. \n",
    "\n",
    "Let the trained network be $\\Phi(W, X)$, and considered layers for analysis are $\\{..., l-n, l, l+m, ... \\}$. The clusters $\\{C^l_p, C^l_q, C^l_r, ...\\}$ are formed as a result of clustering weights at layer $l$ in the network $\\Phi$. \n",
    "\n",
    "Let $W = \\{ w_1, w_2,..., w_n\\}$, where $W\\in\\mathbb{R}^{3 \\times 3 \\times inc \\times outc}$ and $w_i \\in \\mathbb{R}^{3 \\times 3 \\times inc}$, after vectorization $W \\in \\mathbb{R}^{9inc \\times outc}$ and $w_i \\in \\mathbb{R}^{9inc \\times 1}$. To increase the difference between two simialr weights we encode position information \\cite{} along with weights $w_i = w_i + X$, where $X$ is a vector along the plane $X=Y$ in same vector space as $w_i$. Encoding such non symmetrical position information ensures higher distance between two vectors with similar intensity values but different orientations. \n",
    "\n",
    "These modified weights are used in cluster formation. Clusters are formed using a hierarchical clustering method \\cite{} using distance-based thresholding rather than fixing the number of clusters. This provides additional degrees of freedom to group weights into as many numbers of significantly different concepts.\n",
    "\n",
    "After obtaining the clusters, weights are arranged accordingly to observe similarity among the clustered weights. Figure \\ref{} depicts the same. But it's hard to interpret these weights directly due to their high dimensionality, using metrics like $\\mathbb{E}(cosine~similarity)$ we can easily quantify the difference among these clusters."
   ]
  },
  {
   "cell_type": "code",
   "execution_count": 7,
   "metadata": {},
   "outputs": [
    {
     "name": "stdout",
     "output_type": "stream",
     "text": [
      "[INFO: BioExp Clustering] Layer: conv2d_13, Nclusters: 3, Labels: [0 1 2], Freq. of each labels: [120, 72, 64] Clustering Score: 0.13362113364673717\n",
      "[INFO: BioExp Clustering] Layer: conv2d_15, Nclusters: 3, Labels: [0 1 2], Freq. of each labels: [131, 71, 54] Clustering Score: 0.07492671153224681\n",
      "[INFO: BioExp Clustering] Layer: conv2d_17, Nclusters: 4, Labels: [0 1 2 3], Freq. of each labels: [26, 49, 28, 25] Clustering Score: 0.07294315012617389\n",
      "[INFO: BioExp Clustering] Layer: conv2d_19, Nclusters: 5, Labels: [0 1 2 3 4], Freq. of each labels: [22, 10, 10, 12, 10] Clustering Score: 0.20523335509596982\n",
      "[INFO: BioExp Clustering] Layer: conv2d_11, Nclusters: 3, Labels: [0 1 2], Freq. of each labels: [165, 268, 79] Clustering Score: 0.092363988590202\n"
     ]
    }
   ],
   "source": [
    "from BioExp.clusters import clusters\n",
    "\n",
    "concept_info = []\n",
    "node = 0\n",
    "\n",
    "save_root = './Logs/{}/weights_cluster/'.format(seq)\n",
    "for layer_name in layers_to_consider:\n",
    "    save_path = os.path.join(save_root, layer_name)\n",
    "    os.makedirs(save_path, exist_ok = True)\n",
    "    \n",
    "    C = clusters.Cluster(model, weights_path, layer_name)\n",
    "    labels = C.get_clusters(threshold = .50, \n",
    "                            normalize = True,\n",
    "                            position  = True,\n",
    "                            save_path = save_path)\n",
    "    C.plot_weights(labels, os.path.join(save_path, 'wt-samples'))\n",
    "    \n",
    "    for label in np.unique(labels):\n",
    "        nodename = 'node_{}'.format(node)\n",
    "        layername = layer_name\n",
    "        fidxs = np.where(labels==label)[0]\n",
    "        info = {'concept_name': nodename, \n",
    "                  'layer_name': layername, \n",
    "                 'filter_idxs': fidxs}\n",
    "        concept_info.append(info)\n",
    "        node += 1\n",
    "        \n",
    "with open(os.path.join(save_root, 'cluster_info.cpickle'), 'wb') as file:\n",
    "    pickle.dump(concept_info, file)"
   ]
  },
  {
   "cell_type": "markdown",
   "metadata": {},
   "source": [
    "----------\n",
    "### TODO\n",
    "\n",
    "Another proposed method for clustering is to hand-engineered features using statistical methods. We carefully select features responsible for orientations, intensity, and textures using statistical tricks, which are further used by GMM's for grouping them together. \n",
    "\n",
    "- [ ] Different clustering methods by hand engineered features\n",
    "- [x] Features considered currently, which in combination provides transforms any weight tensor to vector $\\in \\mathbb{R}^{32\\times 1}$\n",
    "        - Orientation features\n",
    "        - Energy features\n",
    "        - Texture features\n",
    "\n",
    "This method still needs some thoughts to make it work as expected, which will be explored in future works. As the clusters formed are still in expectational sense, which results in loss of information which inturn makes it hard to form well seperated clusters."
   ]
  },
  {
   "cell_type": "markdown",
   "metadata": {},
   "source": [
    "#### GradCAM revist\n",
    "![cam](./imgs/gradcam.png)\n",
    "\n",
    "-----\n",
    "## Concept Identification\n",
    "\n",
    "Concept identification is the step where we try to associate formed clusters to some region in an input image. For which, we use a gradient-based method. Consider concept $C^l_p$ to identify the corresponding region activated in an input image. We first modify the trained network by dissecting the network at layer $l$ described as $\\Phi_l$ and intervening the concepts other than concept $p$ to zeros i.e., $do(C^l_{-p} = 0)$. Now we compute gradient activated regions for all the feature maps \\cite{} in $p$ and consider their expectation to be the identified feature. Equations below illustrate the same.\n",
    "\n",
    "\\begin{equation}\n",
    "    y(l, k, x) = \\dfrac{1}{P} \\sum_{i} \\sum_{j} \\Phi^{'}_{l, k}(x) \n",
    "\\end{equation}\n",
    "\n",
    "\\begin{equation}\n",
    "    \\beta(l, k, x) = \\dfrac{1}{N}\\sum_{i} \\sum_{j} \\dfrac{\\partial y(l, k, x)} {\\partial \\Phi^{'ij}_{l, k}(x)}\n",
    "\\end{equation}\n",
    "\n",
    "\\begin{equation}\n",
    "    Concept = \\mathbb{E}_{k \\sim fidxs_p} \\left (ReLU\\left ( \\beta(l, k, x) \\Phi^{'}_{l, k}(x) \\right) \\right)  \n",
    "\\end{equation}\n",
    "\n",
    "As the gradient is a linear operation, we approximate the expectation of gradient activated regions of all the feature maps to the gradient activated region of the expected feature map, which is $\\mathbb{E}_{k \\sim idx_p} (GradCAM(fmap_k)) \\approx GradCAM(\\mathbb{E}_{k \\sim idx_p}(fmap_k))$. \n",
    "To achieve the same, we further modify the network $\\Phi_l$ by adding $(1\\times 1)$ convolution at the end, which results in $\\Phi^{'}_{l}$, which computes the expectation of feature maps of all the feature maps belonging to concept $p$. \n",
    "\n",
    "\n",
    "\n",
    "Once when the concepts are identified, we conduct a significance analysis to ensure that the concepts formed are consistent and are localized.\n",
    "\n",
    "To accomplish this, we first generate the distribution for each concept. As the weights belonging to a specific layer can be considered as i.i.d \\cite{}, by this assumption, we consider all the weights belonging to a particular cluster and generate a distribution using Gaussian as a prior.\n",
    "\n",
    "Let $w \\in C^l_p$ and $w \\in \\mathbb{R}^{3 x 3 x inc}$, we have such $n$ w's in a particular concept. The $1^{st}$ order moment information of these samples are used to generate Gaussian distribution. Obtained distribution $G(\\mu, \\sigma) = \\sigma ^{-0.5} \\exp \\{- \\frac{\\mu^2}{\\sigma ^2}\\}$ where $\\mu = \\mathbb{E}_{w \\sim idx_p}(w)$ and $\\sigma = \\mathbb{E}_{w \\sim idx_p}(w - \\mathbb{E}_{w \\sim idx_p}(w))$, the distribution here is considered in pixel space. \n",
    "\n",
    "Once when we have the distribution, we sample several concepts and run concept identification test to map the similarities between original and sampled concepts. A concept with higher variance with respect to an original concept is removed entirely from further tests, as it doesn't coherently map to any concepts in an input image."
   ]
  },
  {
   "cell_type": "code",
   "execution_count": 8,
   "metadata": {
    "scrolled": true
   },
   "outputs": [
    {
     "name": "stderr",
     "output_type": "stream",
     "text": [
      "/home/parth/miniconda3/envs/dl/lib/python3.6/site-packages/keras/engine/saving.py:292: UserWarning: No training configuration found in save file: the model was *not* compiled. Compile it manually.\n",
      "  warnings.warn('No training configuration found in save file: '\n",
      "/home/parth/.local/lib/python3.6/site-packages/matplotlib/cbook/__init__.py:424: MatplotlibDeprecationWarning: \n",
      "Passing one of 'on', 'true', 'off', 'false' as a boolean is deprecated; use an actual boolean (True/False) instead.\n",
      "  warn_deprecated(\"2.2\", \"Passing one of 'on', 'true', 'off', 'false' as a \"\n"
     ]
    },
    {
     "name": "stdout",
     "output_type": "stream",
     "text": [
      "[INFO: BioExp Concept Identification] Identified Concept node_0 in layer conv2d_13\n",
      "[INFO: BioExp Concept Identification] Identified Concept node_0 in layer conv2d_13\n",
      "[INFO: BioExp Concept Identification] Identified Concept node_1 in layer conv2d_13\n",
      "[INFO: BioExp Concept Identification] Identified Concept node_1 in layer conv2d_13\n",
      "[INFO: BioExp Concept Identification] Identified Concept node_2 in layer conv2d_13\n",
      "[INFO: BioExp Concept Identification] Identified Concept node_2 in layer conv2d_13\n"
     ]
    }
   ],
   "source": [
    "from BioExp.clusters.concept import ConceptIdentification\n",
    "from BioExp.helpers import utils\n",
    "\n",
    "image, gt = utils.load_vol_brats('../BioExp/sample_vol/brats/Brats18_CBICA_AOP_1', slicen=105)\n",
    "image = image[:, :, seq_map[seq]][:,:, None]\n",
    "\n",
    "save_root = './Logs/{}/weights_cluster/'.format(seq)\n",
    "with open(os.path.join(save_root, 'cluster_info.cpickle'), 'rb') as file:\n",
    "    concepts_info = pickle.load(file)\n",
    "    \n",
    "metric = dice_label_coef # defined in helpers.losses\n",
    "identifier = ConceptIdentification(model, weights_path, metric)\n",
    "\n",
    "save_root = './Logs/{}/concept_identification'.format(seq)\n",
    "\n",
    "restart = ['conv2d_13']\n",
    "for concept_info in concepts_info:\n",
    "    if not (concept_info['layer_name'] in restart): continue\n",
    "    identifier.flow_based_identifier(concept_info, \n",
    "                           save_path = os.path.join(save_root, \n",
    "                                                    concept_info['layer_name']), \n",
    "                           test_img = image)\n",
    "    \n",
    "    identifier.check_robustness(concept_info,\n",
    "                            save_path = os.path.join(save_root, \n",
    "                                                     concept_info['layer_name']), \n",
    "                            test_img = image,\n",
    "                            save_all = True,\n",
    "                            nmontecarlo = 10)"
   ]
  },
  {
   "cell_type": "code",
   "execution_count": 9,
   "metadata": {
    "scrolled": true
   },
   "outputs": [
    {
     "name": "stdout",
     "output_type": "stream",
     "text": [
      "=========./Logs/flair/concept_identification/conv2d_13/node_2.png========\n"
     ]
    },
    {
     "data": {
      "image/png": "[encoded data removed]",
      "text/plain": [
       "<Figure size 432x288 with 1 Axes>"
      ]
     },
     "metadata": {
      "needs_background": "light"
     },
     "output_type": "display_data"
    },
    {
     "name": "stdout",
     "output_type": "stream",
     "text": [
      "=========./Logs/flair/concept_identification/conv2d_13/node_1.png========\n"
     ]
    },
    {
     "data": {
      "image/png": "[encoded data removed]",
      "text/plain": [
       "<Figure size 432x288 with 1 Axes>"
      ]
     },
     "metadata": {
      "needs_background": "light"
     },
     "output_type": "display_data"
    },
    {
     "name": "stdout",
     "output_type": "stream",
     "text": [
      "=========./Logs/flair/concept_identification/conv2d_13/node_0.png========\n"
     ]
    },
    {
     "data": {
      "image/png": "[encoded data removed]",
      "text/plain": [
       "<Figure size 432x288 with 1 Axes>"
      ]
     },
     "metadata": {
      "needs_background": "light"
     },
     "output_type": "display_data"
    },
    {
     "name": "stdout",
     "output_type": "stream",
     "text": [
      "=========./Logs/flair/concept_identification/conv2d_19/node_13.png========\n"
     ]
    },
    {
     "data": {
      "image/png": "[encoded data removed]",
      "text/plain": [
       "<Figure size 432x288 with 1 Axes>"
      ]
     },
     "metadata": {
      "needs_background": "light"
     },
     "output_type": "display_data"
    },
    {
     "name": "stdout",
     "output_type": "stream",
     "text": [
      "=========./Logs/flair/concept_identification/conv2d_19/node_10.png========\n"
     ]
    },
    {
     "data": {
      "image/png": "[encoded data removed]",
      "text/plain": [
       "<Figure size 432x288 with 1 Axes>"
      ]
     },
     "metadata": {
      "needs_background": "light"
     },
     "output_type": "display_data"
    },
    {
     "name": "stdout",
     "output_type": "stream",
     "text": [
      "=========./Logs/flair/concept_identification/conv2d_19/node_11.png========\n"
     ]
    },
    {
     "data": {
      "image/png": "[encoded data removed]",
      "text/plain": [
       "<Figure size 432x288 with 1 Axes>"
      ]
     },
     "metadata": {
      "needs_background": "light"
     },
     "output_type": "display_data"
    },
    {
     "name": "stdout",
     "output_type": "stream",
     "text": [
      "=========./Logs/flair/concept_identification/conv2d_19/node_14.png========\n"
     ]
    },
    {
     "data": {
      "image/png": "[encoded data removed]",
      "text/plain": [
       "<Figure size 432x288 with 1 Axes>"
      ]
     },
     "metadata": {
      "needs_background": "light"
     },
     "output_type": "display_data"
    },
    {
     "name": "stdout",
     "output_type": "stream",
     "text": [
      "=========./Logs/flair/concept_identification/conv2d_19/node_12.png========\n"
     ]
    },
    {
     "data": {
      "image/png": "[encoded data removed]",
      "text/plain": [
       "<Figure size 432x288 with 1 Axes>"
      ]
     },
     "metadata": {
      "needs_background": "light"
     },
     "output_type": "display_data"
    }
   ],
   "source": [
    "from glob import glob\n",
    "from PIL import Image\n",
    "import matplotlib\n",
    "%matplotlib inline\n",
    "import matplotlib.pyplot as plt\n",
    "\n",
    "save_root = './Logs/{}/concept_identification'.format(seq)\n",
    "paths = np.array([pth for pth in glob(save_root + '/*/*.png') if not pth.__contains__('robustness')])\n",
    "for pth in paths:\n",
    "    print (\"========={}========\".format(pth))\n",
    "    plt.imshow(np.array(Image.open(pth)))\n",
    "    plt.show()\n"
   ]
  },
  {
   "cell_type": "code",
   "execution_count": 10,
   "metadata": {
    "scrolled": true
   },
   "outputs": [
    {
     "name": "stdout",
     "output_type": "stream",
     "text": [
      "=========./Logs/flair/concept_identification/conv2d_13/node_2_robustness.png========\n"
     ]
    },
    {
     "data": {
      "image/png": "[encoded data removed]",
      "text/plain": [
       "<Figure size 432x288 with 1 Axes>"
      ]
     },
     "metadata": {
      "needs_background": "light"
     },
     "output_type": "display_data"
    },
    {
     "name": "stdout",
     "output_type": "stream",
     "text": [
      "=========./Logs/flair/concept_identification/conv2d_13/node_1_robustness.png========\n"
     ]
    },
    {
     "data": {
      "image/png": "[encoded data removed]",
      "text/plain": [
       "<Figure size 432x288 with 1 Axes>"
      ]
     },
     "metadata": {
      "needs_background": "light"
     },
     "output_type": "display_data"
    },
    {
     "name": "stdout",
     "output_type": "stream",
     "text": [
      "=========./Logs/flair/concept_identification/conv2d_13/node_0_robustness.png========\n"
     ]
    },
    {
     "data": {
      "image/png": "[encoded data removed]",
      "text/plain": [
       "<Figure size 432x288 with 1 Axes>"
      ]
     },
     "metadata": {
      "needs_background": "light"
     },
     "output_type": "display_data"
    },
    {
     "name": "stdout",
     "output_type": "stream",
     "text": [
      "=========./Logs/flair/concept_identification/conv2d_19/node_11_robustness.png========\n"
     ]
    },
    {
     "data": {
      "image/png": "[encoded data removed]",
      "text/plain": [
       "<Figure size 432x288 with 1 Axes>"
      ]
     },
     "metadata": {
      "needs_background": "light"
     },
     "output_type": "display_data"
    },
    {
     "name": "stdout",
     "output_type": "stream",
     "text": [
      "=========./Logs/flair/concept_identification/conv2d_19/node_12_robustness.png========\n"
     ]
    },
    {
     "data": {
      "image/png": "[encoded data removed]",
      "text/plain": [
       "<Figure size 432x288 with 1 Axes>"
      ]
     },
     "metadata": {
      "needs_background": "light"
     },
     "output_type": "display_data"
    },
    {
     "name": "stdout",
     "output_type": "stream",
     "text": [
      "=========./Logs/flair/concept_identification/conv2d_19/node_10_robustness.png========\n"
     ]
    },
    {
     "data": {
      "image/png": "[encoded data removed]",
      "text/plain": [
       "<Figure size 432x288 with 1 Axes>"
      ]
     },
     "metadata": {
      "needs_background": "light"
     },
     "output_type": "display_data"
    },
    {
     "name": "stdout",
     "output_type": "stream",
     "text": [
      "=========./Logs/flair/concept_identification/conv2d_19/node_13_robustness.png========\n"
     ]
    },
    {
     "data": {
      "image/png": "[encoded data removed]",
      "text/plain": [
       "<Figure size 432x288 with 1 Axes>"
      ]
     },
     "metadata": {
      "needs_background": "light"
     },
     "output_type": "display_data"
    }
   ],
   "source": [
    "# Concept Robustness results\n",
    "\n",
    "from glob import glob\n",
    "from PIL import Image\n",
    "import matplotlib\n",
    "%matplotlib inline\n",
    "import matplotlib.pyplot as plt\n",
    "\n",
    "save_root = './Logs/{}/concept_identification'.format(seq)\n",
    "paths = np.array([pth for pth in glob(save_root + '/*/*.png') if pth.__contains__('robustness')])\n",
    "for pth in paths:\n",
    "    print (\"========={}========\".format(pth))\n",
    "    plt.imshow(np.array(Image.open(pth)))\n",
    "    plt.show()"
   ]
  },
  {
   "cell_type": "code",
   "execution_count": 7,
   "metadata": {
    "scrolled": true
   },
   "outputs": [
    {
     "name": "stdout",
     "output_type": "stream",
     "text": [
      "{'concept_name': 'node_4',\n",
      " 'description': 'Concave edge detector',\n",
      " 'filter_idxs': array([  0,   3,   4,  10,  12,  13,  16,  20,  29,  30,  33,  34,  39,\n",
      "        42,  44,  49,  59,  63,  64,  66,  71,  75,  77,  85,  89,  90,\n",
      "        94,  96, 109, 112, 117, 118]),\n",
      " 'layer_name': 'conv2d_5'}\n",
      "{'concept_name': 'node_5',\n",
      " 'description': 'Convex edge deector',\n",
      " 'filter_idxs': array([  5,   7,  25,  32,  40,  50,  81, 111, 115, 116]),\n",
      " 'layer_name': 'conv2d_5'}\n",
      "{'concept_name': 'node_6',\n",
      " 'description': 'Horizontal edge detectors',\n",
      " 'filter_idxs': array([ 22,  26,  27,  28,  45,  57,  61,  65,  74,  82,  91,  98,  99,\n",
      "       101, 107, 125]),\n",
      " 'layer_name': 'conv2d_5'}\n",
      "{'concept_name': 'node_8',\n",
      " 'description': 'Corner keypoints all over the brain',\n",
      " 'filter_idxs': array([  0,   5,   6,  14,  15,  28,  35,  36,  40,  45,  47,  51,  52,\n",
      "        53,  61,  62,  65,  73,  74,  76,  77,  78,  85,  86,  91,  97,\n",
      "        98, 108, 112, 116, 118, 122, 123, 139, 140, 142, 143, 150, 152,\n",
      "       153, 156, 170, 177, 178, 182, 183, 184, 188, 191, 192, 194, 199,\n",
      "       207, 221, 227, 228, 229, 234, 237, 240, 242, 245, 246, 250, 255]),\n",
      " 'layer_name': 'conv2d_7'}\n",
      "{'concept_name': 'node_9',\n",
      " 'description': 'Corner keypoints in the tumor hemisphere brain',\n",
      " 'filter_idxs': array([  1,   2,   3,   8,   9,  13,  16,  25,  26,  27,  31,  34,  41,\n",
      "        43,  44,  46,  56,  57,  58,  68,  70,  71,  75,  79,  83,  84,\n",
      "        93,  96, 101, 102, 104, 110, 111, 124, 133, 134, 145, 147, 154,\n",
      "       160, 167, 171, 173, 180, 190, 195, 200, 205, 206, 208, 211, 214,\n",
      "       218, 220, 223, 235, 241, 251]),\n",
      " 'layer_name': 'conv2d_7'}\n",
      "{'concept_name': 'node_10',\n",
      " 'description': 'Tumor Corner keypoints',\n",
      " 'filter_idxs': array([  4,  11,  17,  20,  24,  38,  48,  49,  66,  67,  81,  82,  94,\n",
      "        99, 105, 107, 109, 113, 120, 127, 132, 144, 146, 148, 151, 159,\n",
      "       163, 168, 176, 196, 201, 202, 212, 213, 216, 225, 236, 248, 254]),\n",
      " 'layer_name': 'conv2d_7'}\n",
      "{'concept_name': 'node_13',\n",
      " 'description': 'Anterior brain boundary and inner brain corner keypoints',\n",
      " 'filter_idxs': array([  4,   6,   8,   9,  14,  15,  16,  27,  28,  30,  35,  37,  39,\n",
      "        44,  45,  46,  47,  48,  49,  59,  63,  67,  69,  72,  74,  80,\n",
      "        83,  85,  89,  90,  91,  93,  97,  99, 103, 110, 111, 112, 114,\n",
      "       115, 117, 118, 119, 122, 124, 126, 127, 129, 133, 134, 135, 139,\n",
      "       141, 142, 146, 148, 149, 150, 151, 152, 153, 155, 158, 161, 163,\n",
      "       167, 169, 170, 173, 174, 176, 178, 179, 185, 187, 195, 198, 200,\n",
      "       201, 203, 204, 214, 217, 219, 222, 223, 224, 229, 230, 232, 235,\n",
      "       236, 239, 241, 242, 246, 248, 249, 254]),\n",
      " 'layer_name': 'conv2d_9'}\n",
      "{'concept_name': 'node_14',\n",
      " 'description': 'Lateral right hemispherical brain boundary',\n",
      " 'filter_idxs': array([  3,   4,   5,   8,  12,  18,  26,  28,  31,  34,  39,  41,  43,\n",
      "        56,  57,  59,  60,  61,  62,  66,  72,  73,  74,  78,  84,  86,\n",
      "        87,  90,  98, 103, 106, 107, 114, 117, 118, 120, 125, 126, 127,\n",
      "       129, 130, 133, 137, 140, 141, 146, 147, 152, 170, 174, 183, 189,\n",
      "       191, 197, 199, 201, 208, 210, 213, 214, 216, 217, 218, 224, 231,\n",
      "       233, 238, 239, 240, 242, 243, 245, 248, 251, 252, 255, 258, 259,\n",
      "       263, 266, 270, 276, 281, 282, 286, 288, 290, 294, 295, 303, 306,\n",
      "       310, 314, 316, 317, 320, 321, 326, 327, 330, 333, 335, 336, 337,\n",
      "       348, 349, 352, 353, 355, 356, 365, 366, 369, 374, 380, 381, 382,\n",
      "       383, 384, 385, 390, 391, 394, 402, 403, 412, 413, 415, 416, 417,\n",
      "       418, 420, 423, 424, 427, 434, 437, 439, 440, 442, 445, 447, 448,\n",
      "       450, 451, 456, 458, 460, 470, 471, 476, 479, 481, 483, 484, 485,\n",
      "       487, 493, 494, 500, 501, 502, 504, 509, 510]),\n",
      " 'layer_name': 'conv2d_11'}\n",
      "{'concept_name': 'node_19',\n",
      " 'description': 'Lateral left hemispherical brain boundary',\n",
      " 'filter_idxs': array([  0,   7,  19,  21,  25,  26,  27,  28,  34,  35,  43,  53,  57,\n",
      "        61,  63,  65,  66,  67,  70,  73,  84,  86,  88,  89,  91,  95,\n",
      "        96, 100, 103, 104, 107, 116, 118, 119, 125, 127, 130, 138, 146,\n",
      "       153, 154, 158, 165, 169, 182, 185, 186, 191, 192, 196, 205, 206,\n",
      "       208, 214, 220, 221, 224, 235, 237, 238, 240, 248, 251, 253]),\n",
      " 'layer_name': 'conv2d_13'}\n",
      "{'concept_name': 'node_20',\n",
      " 'description': 'Anterior tumor region along with medial mid brain region',\n",
      " 'filter_idxs': array([  0,   1,   2,   3,   4,   7,   8,   9,  10,  11,  13,  17,  18,\n",
      "        21,  23,  24,  26,  27,  28,  29,  32,  34,  36,  37,  38,  39,\n",
      "        43,  45,  46,  48,  50,  51,  53,  55,  56,  59,  61,  62,  63,\n",
      "        64,  65,  66,  69,  70,  71,  75,  76,  77,  81,  82,  84,  85,\n",
      "        87,  89,  90,  92,  93,  94,  96, 101, 102, 105, 111, 113, 118,\n",
      "       119, 121, 122, 123, 124, 125, 126, 127, 129, 130, 131, 132, 134,\n",
      "       137, 139, 145, 148, 149, 152, 153, 154, 155, 156, 157, 158, 160,\n",
      "       162, 163, 164, 165, 166, 167, 171, 172, 175, 178, 181, 182, 184,\n",
      "       185, 186, 187, 190, 195, 202, 203, 213, 215, 216, 220, 221, 222,\n",
      "       224, 227, 228, 231, 233, 237, 238, 240, 241, 243, 250, 251, 252,\n",
      "       255]),\n",
      " 'layer_name': 'conv2d_15'}\n",
      "{'concept_name': 'node_21',\n",
      " 'description': 'Left lateral tumor region',\n",
      " 'filter_idxs': array([  5,  14,  16,  25,  30,  31,  33,  40,  41,  44,  47,  52,  57,\n",
      "        60,  68,  72,  73,  78,  79,  83,  86,  88,  95,  97,  98, 104,\n",
      "       107, 110, 114, 116, 120, 128, 133, 135, 138, 141, 143, 144, 147,\n",
      "       151, 161, 168, 169, 170, 174, 176, 177, 179, 188, 189, 191, 193,\n",
      "       194, 196, 198, 199, 200, 201, 204, 209, 217, 218, 223, 230, 232,\n",
      "       235, 236, 244, 245, 246, 249]),\n",
      " 'layer_name': 'conv2d_15'}\n",
      "{'concept_name': 'node_25',\n",
      " 'description': 'Anterior tumor region along with Lateral left hemispherical '\n",
      "                'brain boundary',\n",
      " 'filter_idxs': array([  1,   9,  11,  12,  21,  26,  27,  35,  36,  42,  43,  48,  52,\n",
      "        53,  62,  65,  72,  77,  81,  84,  85,  90,  92,  96, 101, 114,\n",
      "       116, 121]),\n",
      " 'layer_name': 'conv2d_17'}\n",
      "{'concept_name': 'node_28',\n",
      " 'description': 'Eroded tumor core region',\n",
      " 'filter_idxs': array([ 7,  8, 12, 36, 38, 41, 42, 48, 50, 62]),\n",
      " 'layer_name': 'conv2d_19'}\n",
      "{'concept_name': 'node_29',\n",
      " 'description': 'Tumor core boundary along with Lateral left hemispherical '\n",
      "                'brain boundary',\n",
      " 'filter_idxs': array([15, 20, 22, 26, 31, 35, 39, 53, 57, 59]),\n",
      " 'layer_name': 'conv2d_19'}\n",
      "{'concept_name': 'node_30',\n",
      " 'description': 'Whole tumor boundary and edima region',\n",
      " 'filter_idxs': array([ 0,  2,  9, 16, 18, 25, 27, 29, 30, 33, 49, 54]),\n",
      " 'layer_name': 'conv2d_19'}\n",
      "{'concept_name': 'node_35',\n",
      " 'description': 'Dilated tumor core region',\n",
      " 'filter_idxs': array([20, 32, 40, 49]),\n",
      " 'layer_name': 'conv2d_21'}\n"
     ]
    }
   ],
   "source": [
    "# These descriptions are provided manually by the user, \n",
    "# based on the way he/she interprets above images\n",
    "# In this case we use atlas to obtain proper description\n",
    "\n",
    "\n",
    "from pprint import pprint\n",
    "consider_nodes = [{'node': 14, 'description': 'Lateral right hemispherical brain boundary'}, \n",
    "                  {'node': 19, 'description': 'Lateral left hemispherical brain boundary'}, \n",
    "                  {'node': 20, 'description': 'Anterior tumor region along with medial mid brain region'},\n",
    "                  {'node': 21, 'description': 'Left lateral tumor region'},\n",
    "                  {'node': 28, 'description': 'Eroded tumor core region'},\n",
    "                  {'node': 35, 'description': 'Dilated tumor core region'},\n",
    "                  {'node': 25, 'description': 'Anterior tumor region along with Lateral left hemispherical brain boundary'},\n",
    "                  {'node': 29, 'description': 'Tumor core boundary along with Lateral left hemispherical brain boundary'},\n",
    "                  {'node': 30, 'description': 'Whole tumor boundary and edima region'},\n",
    "                  {'node': 4, 'description': 'Concave edge detector'},\n",
    "                  {'node': 5, 'description': 'Convex edge deector'},\n",
    "                  {'node': 6, 'description': 'Horizontal edge detectors'},\n",
    "                  {'node': 10, 'description': 'Tumor Corner keypoints'},\n",
    "                  {'node': 8, 'description': 'Corner keypoints all over the brain'},\n",
    "                  {'node': 9, 'description': 'Corner keypoints in the tumor hemisphere brain'},\n",
    "                  {'node': 13, 'description': 'Anterior brain boundary and inner brain corner keypoints'},\n",
    "                ]\n",
    "\n",
    "# update cluster info\n",
    "save_root = './Logs/{}/weights_cluster/'.format(seq)\n",
    "with open(os.path.join(save_root, 'cluster_info.cpickle'), 'rb') as file:\n",
    "    concepts_info = pickle.load(file)\n",
    "    \n",
    "modified_concepts = []\n",
    "for concept_info in concepts_info:\n",
    "    for i, node in enumerate(consider_nodes):\n",
    "        if node['node'] == int(concept_info['concept_name'].split('_').pop()):\n",
    "            concept_info['description'] = consider_nodes[i]['description']\n",
    "            pprint(concept_info)\n",
    "            modified_concepts.append(concept_info)\n",
    "            break\n",
    "\n",
    "with open('./Logs/{}/modified_clusters.cpickle'.format(seq), 'wb') as file:\n",
    "    pickle.dump(modified_concepts, file)  "
   ]
  },
  {
   "cell_type": "markdown",
   "metadata": {},
   "source": [
    "----------\n",
    "\n",
    "### Causal Graph Links\n",
    "\n",
    "\n",
    "![causallinkage](./imgs/causality_linkage.png)\n",
    "\n",
    "Any deep learning models are inherently correlation-based; they try to map an input to output \\cite{}. By constraining the network accordingly, we can try to estimate hidden causal links responsible for feature map activations. In this step, we try to estimate links between the significant concepts formed in the above steps. These links capture causal interactions between the concepts. \n",
    "\n",
    "To construct this graph, we work with feature map distributions; mathematically, the link between two concept nodes exists if $MI$ (Mutual Information) between the feature map distributions is higher than a threshold value, described in bellow equations.\n",
    "\n",
    "Let, $C_i^l$ denotes the $i^{th}$ concept in layer $l$. The directed link $C_i^p \\rightarrow C_j^q$ is determined by $MI(\\mathbb{Q}(x~|~\\Phi_{j,q}), \\mathbb{Q}(x~|~\\Phi_{q}))$, where $\\mathbb{Q}$ is the distribution of feature maps obtained by considering network $\\Phi$. $\\mathbb{Q}(x~|~\\Phi_{j,q})$ is the distribution of feature maps generated as a result of considering just single concept $C_j^q$, while $\\mathbb{Q}(x~|~\\Phi_{q})$ is the distribution generated by considering all the concepts in layer $q$ and setting all $C_{-i}^p$ to zeros.\n",
    "\n",
    "The directed link $C_i^p \\rightarrow C_j^q$, exists only if $MI(\\mathbb{Q}(x~|~\\Phi_{j,q}), \\mathbb{Q}(x~|~\\Phi_{q})) > T$, i.e., the information between post-interventional distribution and pre-interventional distribution is higher than a threshold value. Equation \\ref{} describes the same.\n",
    "\n",
    "$$MI(C_j^q, ~do(C_i^p = 1) ~|~ do(C_{-i}^p = 0), ~do(C_{-j}^q = 0)) - MI(C_j^q, ~do(C_i^p = 0) ~|~ do(C_{-i}^p = 0), ~do(C_{-j}^q = 0)) > T$$\n",
    "$$\\Rightarrow MI(C_j^q, ~do(C_i^p = 1) ~|~ do(C_{-i}^p = 0), ~do(C_{-j}^q = 0)) > T$$\n"
   ]
  },
  {
   "cell_type": "code",
   "execution_count": 6,
   "metadata": {
    "scrolled": true
   },
   "outputs": [
    {
     "name": "stdout",
     "output_type": "stream",
     "text": [
      "WARNING:tensorflow:From /home/pi/miniconda/envs/bioexp/lib/python3.6/site-packages/keras/backend/tensorflow_backend.py:422: The name tf.global_variables is deprecated. Please use tf.compat.v1.global_variables instead.\n",
      "\n",
      "[INFO: BioExp Graphs] Causal Relation between: node_4, node_8; edge weights: 0.2585625426335418\n",
      "[INFO: BioExp Graphs] Causal Relation between: node_4, node_9; edge weights: 0.23070511421585663\n",
      "[INFO: BioExp Graphs] Causal Relation between: node_4, node_10; edge weights: 0.1552457702575578\n",
      "[INFO: BioExp Graphs] Causal Relation between: node_4, node_13; edge weights: 0.3876641481532881\n",
      "[INFO: BioExp Graphs] Causal Relation between: node_4, node_14; edge weights: 0.32884144578734686\n",
      "[INFO: BioExp Graphs] Causal Relation between: node_4, node_19; edge weights: 0.25387767628232943\n",
      "[INFO: BioExp Graphs] Causal Relation between: node_4, node_20; edge weights: 0.5143501056304425\n",
      "[INFO: BioExp Graphs] Causal Relation between: node_4, node_21; edge weights: 0.2838356809643605\n",
      "[INFO: BioExp Graphs] Causal Relation between: node_4, node_25; edge weights: 0.23121094210890053\n",
      "[INFO: BioExp Graphs] Causal Relation between: node_4, node_28; edge weights: 0.16976193290469485\n",
      "[INFO: BioExp Graphs] Causal Relation between: node_4, node_29; edge weights: 0.16908305760563816\n",
      "[INFO: BioExp Graphs] Causal Relation between: node_4, node_30; edge weights: 0.201307221125837\n",
      "[INFO: BioExp Graphs] Causal Relation between: node_4, node_35; edge weights: 0.07771060893773624\n",
      "node: Input, children: ['node_4'], parents: []\n",
      "node: node_4, children: ['node_8', 'node_13', 'node_14', 'node_19', 'node_20', 'node_21'], parents: ['Input']\n",
      "node: node_8, children: [], parents: ['node_4']\n",
      "node: node_13, children: [], parents: ['node_4']\n",
      "node: node_14, children: [], parents: ['node_4']\n",
      "node: node_19, children: [], parents: ['node_4']\n",
      "node: node_20, children: [], parents: ['node_4']\n",
      "node: node_21, children: [], parents: ['node_4']\n",
      "[INFO: BioExp Graphs] Causal Relation between: node_5, node_8; edge weights: 0.25647051964930995\n",
      "[INFO: BioExp Graphs] Causal Relation between: node_5, node_9; edge weights: 0.2348247658209049\n",
      "[INFO: BioExp Graphs] Causal Relation between: node_5, node_10; edge weights: 0.15663446570178818\n",
      "[INFO: BioExp Graphs] Causal Relation between: node_5, node_13; edge weights: 0.3880290908198596\n",
      "[INFO: BioExp Graphs] Causal Relation between: node_5, node_14; edge weights: 0.32949905775768895\n",
      "[INFO: BioExp Graphs] Causal Relation between: node_5, node_19; edge weights: 0.26113701390138366\n",
      "[INFO: BioExp Graphs] Causal Relation between: node_5, node_20; edge weights: 0.5153334692648951\n",
      "[INFO: BioExp Graphs] Causal Relation between: node_5, node_21; edge weights: 0.28485511560042837\n",
      "[INFO: BioExp Graphs] Causal Relation between: node_5, node_25; edge weights: 0.22952680741821216\n",
      "[INFO: BioExp Graphs] Causal Relation between: node_5, node_28; edge weights: 0.16741708794720175\n",
      "[INFO: BioExp Graphs] Causal Relation between: node_5, node_29; edge weights: 0.16248849711992353\n",
      "[INFO: BioExp Graphs] Causal Relation between: node_5, node_30; edge weights: 0.19796375565276125\n",
      "[INFO: BioExp Graphs] Causal Relation between: node_5, node_35; edge weights: 0.07449317430376566\n",
      "node: Input, children: ['node_4', 'node_5'], parents: []\n",
      "node: node_4, children: ['node_8', 'node_13', 'node_14', 'node_19', 'node_20', 'node_21'], parents: ['Input']\n",
      "node: node_5, children: ['node_8', 'node_13', 'node_14', 'node_19', 'node_20', 'node_21'], parents: ['Input']\n",
      "node: node_8, children: [], parents: ['node_4', 'node_5']\n",
      "node: node_13, children: [], parents: ['node_4', 'node_5']\n",
      "node: node_14, children: [], parents: ['node_4', 'node_5']\n",
      "node: node_19, children: [], parents: ['node_4', 'node_5']\n",
      "node: node_20, children: [], parents: ['node_4', 'node_5']\n",
      "node: node_21, children: [], parents: ['node_4', 'node_5']\n",
      "[INFO: BioExp Graphs] Causal Relation between: node_6, node_8; edge weights: 0.25955408555764065\n",
      "[INFO: BioExp Graphs] Causal Relation between: node_6, node_9; edge weights: 0.22972556360620594\n",
      "[INFO: BioExp Graphs] Causal Relation between: node_6, node_10; edge weights: 0.1568173530933526\n",
      "[INFO: BioExp Graphs] Causal Relation between: node_6, node_13; edge weights: 0.3875465097477741\n",
      "[INFO: BioExp Graphs] Causal Relation between: node_6, node_14; edge weights: 0.32567812988015177\n",
      "[INFO: BioExp Graphs] Causal Relation between: node_6, node_19; edge weights: 0.25744115071054174\n",
      "[INFO: BioExp Graphs] Causal Relation between: node_6, node_20; edge weights: 0.5157103109249114\n",
      "[INFO: BioExp Graphs] Causal Relation between: node_6, node_21; edge weights: 0.28593939940147045\n",
      "[INFO: BioExp Graphs] Causal Relation between: node_6, node_25; edge weights: 0.22969578068508748\n",
      "[INFO: BioExp Graphs] Causal Relation between: node_6, node_28; edge weights: 0.16778669743837665\n",
      "[INFO: BioExp Graphs] Causal Relation between: node_6, node_29; edge weights: 0.16655259558326696\n",
      "[INFO: BioExp Graphs] Causal Relation between: node_6, node_30; edge weights: 0.19885247203425815\n",
      "[INFO: BioExp Graphs] Causal Relation between: node_6, node_35; edge weights: 0.07455430298967286\n",
      "node: Input, children: ['node_4', 'node_5', 'node_6'], parents: []\n",
      "node: node_4, children: ['node_8', 'node_13', 'node_14', 'node_19', 'node_20', 'node_21'], parents: ['Input']\n",
      "node: node_5, children: ['node_8', 'node_13', 'node_14', 'node_19', 'node_20', 'node_21'], parents: ['Input']\n",
      "node: node_6, children: ['node_8', 'node_13', 'node_14', 'node_19', 'node_20', 'node_21'], parents: ['Input']\n",
      "node: node_8, children: [], parents: ['node_4', 'node_5', 'node_6']\n",
      "node: node_13, children: [], parents: ['node_4', 'node_5', 'node_6']\n",
      "node: node_14, children: [], parents: ['node_4', 'node_5', 'node_6']\n",
      "node: node_19, children: [], parents: ['node_4', 'node_5', 'node_6']\n",
      "node: node_20, children: [], parents: ['node_4', 'node_5', 'node_6']\n",
      "node: node_21, children: [], parents: ['node_4', 'node_5', 'node_6']\n",
      "[INFO: BioExp Graphs] Causal Relation between: node_8, node_13; edge weights: 0.389691483525879\n",
      "[INFO: BioExp Graphs] Causal Relation between: node_8, node_14; edge weights: 0.32198766213914043\n",
      "[INFO: BioExp Graphs] Causal Relation between: node_8, node_19; edge weights: 0.2574092443516996\n",
      "[INFO: BioExp Graphs] Causal Relation between: node_8, node_20; edge weights: 0.5134437212257325\n",
      "[INFO: BioExp Graphs] Causal Relation between: node_8, node_21; edge weights: 0.28593396810047256\n",
      "[INFO: BioExp Graphs] Causal Relation between: node_8, node_25; edge weights: 0.23046152193744796\n",
      "[INFO: BioExp Graphs] Causal Relation between: node_8, node_28; edge weights: 0.16923097927007935\n",
      "[INFO: BioExp Graphs] Causal Relation between: node_8, node_29; edge weights: 0.16978240111100296\n",
      "[INFO: BioExp Graphs] Causal Relation between: node_8, node_30; edge weights: 0.1990012583932517\n",
      "[INFO: BioExp Graphs] Causal Relation between: node_8, node_35; edge weights: 0.0760707963676956\n",
      "node: Input, children: ['node_4', 'node_5', 'node_6'], parents: []\n",
      "node: node_4, children: ['node_8', 'node_13', 'node_14', 'node_19', 'node_20', 'node_21'], parents: ['Input']\n",
      "node: node_5, children: ['node_8', 'node_13', 'node_14', 'node_19', 'node_20', 'node_21'], parents: ['Input']\n",
      "node: node_6, children: ['node_8', 'node_13', 'node_14', 'node_19', 'node_20', 'node_21'], parents: ['Input']\n",
      "node: node_8, children: ['node_13', 'node_14', 'node_19', 'node_20', 'node_21'], parents: ['node_4', 'node_5', 'node_6']\n",
      "node: node_13, children: [], parents: ['node_4', 'node_5', 'node_6', 'node_8']\n",
      "node: node_14, children: [], parents: ['node_4', 'node_5', 'node_6', 'node_8']\n",
      "node: node_19, children: [], parents: ['node_4', 'node_5', 'node_6', 'node_8']\n",
      "node: node_20, children: [], parents: ['node_4', 'node_5', 'node_6', 'node_8']\n",
      "node: node_21, children: [], parents: ['node_4', 'node_5', 'node_6', 'node_8']\n",
      "[INFO: BioExp Graphs] Causal Relation between: node_9, node_13; edge weights: 0.39074166455689774\n",
      "[INFO: BioExp Graphs] Causal Relation between: node_9, node_14; edge weights: 0.32312831022267763\n",
      "[INFO: BioExp Graphs] Causal Relation between: node_9, node_19; edge weights: 0.25865799459040395\n",
      "[INFO: BioExp Graphs] Causal Relation between: node_9, node_20; edge weights: 0.5142910054257157\n",
      "[INFO: BioExp Graphs] Causal Relation between: node_9, node_21; edge weights: 0.2855391122056151\n",
      "[INFO: BioExp Graphs] Causal Relation between: node_9, node_25; edge weights: 0.2307223593647802\n",
      "[INFO: BioExp Graphs] Causal Relation between: node_9, node_28; edge weights: 0.1694885942745986\n",
      "[INFO: BioExp Graphs] Causal Relation between: node_9, node_29; edge weights: 0.16903837519857862\n",
      "[INFO: BioExp Graphs] Causal Relation between: node_9, node_30; edge weights: 0.1981383503394564\n",
      "[INFO: BioExp Graphs] Causal Relation between: node_9, node_35; edge weights: 0.07829508551072425\n",
      "node: Input, children: ['node_4', 'node_5', 'node_6'], parents: []\n",
      "node: node_4, children: ['node_8', 'node_13', 'node_14', 'node_19', 'node_20', 'node_21'], parents: ['Input']\n",
      "node: node_5, children: ['node_8', 'node_13', 'node_14', 'node_19', 'node_20', 'node_21'], parents: ['Input']\n",
      "node: node_6, children: ['node_8', 'node_13', 'node_14', 'node_19', 'node_20', 'node_21'], parents: ['Input']\n",
      "node: node_8, children: ['node_13', 'node_14', 'node_19', 'node_20', 'node_21'], parents: ['node_4', 'node_5', 'node_6']\n",
      "node: node_13, children: [], parents: ['node_4', 'node_5', 'node_6', 'node_8']\n",
      "node: node_14, children: [], parents: ['node_4', 'node_5', 'node_6', 'node_8']\n",
      "node: node_19, children: [], parents: ['node_4', 'node_5', 'node_6', 'node_8']\n",
      "node: node_20, children: [], parents: ['node_4', 'node_5', 'node_6', 'node_8']\n",
      "node: node_21, children: [], parents: ['node_4', 'node_5', 'node_6', 'node_8']\n",
      "[INFO: BioExp Graphs] Causal Relation between: node_10, node_13; edge weights: 0.38742101715381394\n",
      "[INFO: BioExp Graphs] Causal Relation between: node_10, node_14; edge weights: 0.3265764057219784\n",
      "[INFO: BioExp Graphs] Causal Relation between: node_10, node_19; edge weights: 0.25874948427356836\n",
      "[INFO: BioExp Graphs] Causal Relation between: node_10, node_20; edge weights: 0.5174318346424408\n",
      "[INFO: BioExp Graphs] Causal Relation between: node_10, node_21; edge weights: 0.28581128925707544\n",
      "[INFO: BioExp Graphs] Causal Relation between: node_10, node_25; edge weights: 0.22809068762238946\n",
      "[INFO: BioExp Graphs] Causal Relation between: node_10, node_28; edge weights: 0.16826421885682719\n",
      "[INFO: BioExp Graphs] Causal Relation between: node_10, node_29; edge weights: 0.16927102768243515\n",
      "[INFO: BioExp Graphs] Causal Relation between: node_10, node_30; edge weights: 0.19848692055879533\n",
      "[INFO: BioExp Graphs] Causal Relation between: node_10, node_35; edge weights: 0.07409259717564115\n",
      "node: Input, children: ['node_4', 'node_5', 'node_6'], parents: []\n",
      "node: node_4, children: ['node_8', 'node_13', 'node_14', 'node_19', 'node_20', 'node_21'], parents: ['Input']\n",
      "node: node_5, children: ['node_8', 'node_13', 'node_14', 'node_19', 'node_20', 'node_21'], parents: ['Input']\n",
      "node: node_6, children: ['node_8', 'node_13', 'node_14', 'node_19', 'node_20', 'node_21'], parents: ['Input']\n",
      "node: node_8, children: ['node_13', 'node_14', 'node_19', 'node_20', 'node_21'], parents: ['node_4', 'node_5', 'node_6']\n",
      "node: node_13, children: [], parents: ['node_4', 'node_5', 'node_6', 'node_8']\n",
      "node: node_14, children: [], parents: ['node_4', 'node_5', 'node_6', 'node_8']\n",
      "node: node_19, children: [], parents: ['node_4', 'node_5', 'node_6', 'node_8']\n",
      "node: node_20, children: [], parents: ['node_4', 'node_5', 'node_6', 'node_8']\n",
      "node: node_21, children: [], parents: ['node_4', 'node_5', 'node_6', 'node_8']\n",
      "[INFO: BioExp Graphs] Causal Relation between: node_13, node_14; edge weights: 0.3247107516872304\n",
      "[INFO: BioExp Graphs] Causal Relation between: node_13, node_19; edge weights: 0.2563534514939058\n",
      "[INFO: BioExp Graphs] Causal Relation between: node_13, node_20; edge weights: 0.5134077708227052\n",
      "[INFO: BioExp Graphs] Causal Relation between: node_13, node_21; edge weights: 0.2830527480804589\n",
      "[INFO: BioExp Graphs] Causal Relation between: node_13, node_25; edge weights: 0.22768123660036968\n",
      "[INFO: BioExp Graphs] Causal Relation between: node_13, node_28; edge weights: 0.16557327874280867\n",
      "[INFO: BioExp Graphs] Causal Relation between: node_13, node_29; edge weights: 0.1695797920693861\n",
      "[INFO: BioExp Graphs] Causal Relation between: node_13, node_30; edge weights: 0.20116079996151445\n",
      "[INFO: BioExp Graphs] Causal Relation between: node_13, node_35; edge weights: 0.07616468132267942\n",
      "node: Input, children: ['node_4', 'node_5', 'node_6'], parents: []\n",
      "node: node_4, children: ['node_8', 'node_13', 'node_14', 'node_19', 'node_20', 'node_21'], parents: ['Input']\n",
      "node: node_5, children: ['node_8', 'node_13', 'node_14', 'node_19', 'node_20', 'node_21'], parents: ['Input']\n",
      "node: node_6, children: ['node_8', 'node_13', 'node_14', 'node_19', 'node_20', 'node_21'], parents: ['Input']\n",
      "node: node_8, children: ['node_13', 'node_14', 'node_19', 'node_20', 'node_21'], parents: ['node_4', 'node_5', 'node_6']\n",
      "node: node_13, children: ['node_14', 'node_19', 'node_20', 'node_21'], parents: ['node_4', 'node_5', 'node_6', 'node_8']\n",
      "node: node_14, children: [], parents: ['node_4', 'node_5', 'node_6', 'node_8', 'node_13']\n",
      "node: node_19, children: [], parents: ['node_4', 'node_5', 'node_6', 'node_8', 'node_13']\n",
      "node: node_20, children: [], parents: ['node_4', 'node_5', 'node_6', 'node_8', 'node_13']\n",
      "node: node_21, children: [], parents: ['node_4', 'node_5', 'node_6', 'node_8', 'node_13']\n",
      "[INFO: BioExp Graphs] Causal Relation between: node_14, node_19; edge weights: 0.2521146784233707\n",
      "[INFO: BioExp Graphs] Causal Relation between: node_14, node_20; edge weights: 0.5117184089774092\n",
      "[INFO: BioExp Graphs] Causal Relation between: node_14, node_21; edge weights: 0.28690157498631713\n",
      "[INFO: BioExp Graphs] Causal Relation between: node_14, node_25; edge weights: 0.231469443694978\n",
      "[INFO: BioExp Graphs] Causal Relation between: node_14, node_28; edge weights: 0.1708841394787367\n",
      "[INFO: BioExp Graphs] Causal Relation between: node_14, node_29; edge weights: 0.16889645822274788\n",
      "[INFO: BioExp Graphs] Causal Relation between: node_14, node_30; edge weights: 0.1993342449534138\n",
      "[INFO: BioExp Graphs] Causal Relation between: node_14, node_35; edge weights: 0.07674667880283834\n",
      "node: Input, children: ['node_4', 'node_5', 'node_6'], parents: []\n",
      "node: node_4, children: ['node_8', 'node_13', 'node_14', 'node_19', 'node_20', 'node_21'], parents: ['Input']\n",
      "node: node_5, children: ['node_8', 'node_13', 'node_14', 'node_19', 'node_20', 'node_21'], parents: ['Input']\n",
      "node: node_6, children: ['node_8', 'node_13', 'node_14', 'node_19', 'node_20', 'node_21'], parents: ['Input']\n",
      "node: node_8, children: ['node_13', 'node_14', 'node_19', 'node_20', 'node_21'], parents: ['node_4', 'node_5', 'node_6']\n",
      "node: node_13, children: ['node_14', 'node_19', 'node_20', 'node_21'], parents: ['node_4', 'node_5', 'node_6', 'node_8']\n",
      "node: node_14, children: ['node_19', 'node_20', 'node_21'], parents: ['node_4', 'node_5', 'node_6', 'node_8', 'node_13']\n",
      "node: node_19, children: [], parents: ['node_4', 'node_5', 'node_6', 'node_8', 'node_13', 'node_14']\n",
      "node: node_20, children: [], parents: ['node_4', 'node_5', 'node_6', 'node_8', 'node_13', 'node_14']\n",
      "node: node_21, children: [], parents: ['node_4', 'node_5', 'node_6', 'node_8', 'node_13', 'node_14']\n",
      "[INFO: BioExp Graphs] Causal Relation between: node_19, node_20; edge weights: 0.5136921233598786\n",
      "[INFO: BioExp Graphs] Causal Relation between: node_19, node_21; edge weights: 0.28560915620436256\n",
      "[INFO: BioExp Graphs] Causal Relation between: node_19, node_25; edge weights: 0.2299357920774598\n",
      "[INFO: BioExp Graphs] Causal Relation between: node_19, node_28; edge weights: 0.16934028338482232\n",
      "[INFO: BioExp Graphs] Causal Relation between: node_19, node_29; edge weights: 0.16977226604243564\n",
      "[INFO: BioExp Graphs] Causal Relation between: node_19, node_30; edge weights: 0.19909969330062235\n",
      "[INFO: BioExp Graphs] Causal Relation between: node_19, node_35; edge weights: 0.07724283739459697\n",
      "node: Input, children: ['node_4', 'node_5', 'node_6'], parents: []\n",
      "node: node_4, children: ['node_8', 'node_13', 'node_14', 'node_19', 'node_20', 'node_21'], parents: ['Input']\n",
      "node: node_5, children: ['node_8', 'node_13', 'node_14', 'node_19', 'node_20', 'node_21'], parents: ['Input']\n",
      "node: node_6, children: ['node_8', 'node_13', 'node_14', 'node_19', 'node_20', 'node_21'], parents: ['Input']\n",
      "node: node_8, children: ['node_13', 'node_14', 'node_19', 'node_20', 'node_21'], parents: ['node_4', 'node_5', 'node_6']\n",
      "node: node_13, children: ['node_14', 'node_19', 'node_20', 'node_21'], parents: ['node_4', 'node_5', 'node_6', 'node_8']\n",
      "node: node_14, children: ['node_19', 'node_20', 'node_21'], parents: ['node_4', 'node_5', 'node_6', 'node_8', 'node_13']\n",
      "node: node_19, children: ['node_20', 'node_21'], parents: ['node_4', 'node_5', 'node_6', 'node_8', 'node_13', 'node_14']\n",
      "node: node_20, children: [], parents: ['node_4', 'node_5', 'node_6', 'node_8', 'node_13', 'node_14', 'node_19']\n",
      "node: node_21, children: [], parents: ['node_4', 'node_5', 'node_6', 'node_8', 'node_13', 'node_14', 'node_19']\n",
      "[INFO: BioExp Graphs] Causal Relation between: node_20, node_25; edge weights: 0.22706066442451184\n",
      "[INFO: BioExp Graphs] Causal Relation between: node_20, node_28; edge weights: 0.16881596148932074\n",
      "[INFO: BioExp Graphs] Causal Relation between: node_20, node_29; edge weights: 0.16912299383869522\n",
      "[INFO: BioExp Graphs] Causal Relation between: node_20, node_30; edge weights: 0.1996621294719855\n",
      "[INFO: BioExp Graphs] Causal Relation between: node_20, node_35; edge weights: 0.07710578685309212\n",
      "node: Input, children: ['node_4', 'node_5', 'node_6'], parents: []\n",
      "node: node_4, children: ['node_8', 'node_13', 'node_14', 'node_19', 'node_20', 'node_21'], parents: ['Input']\n",
      "node: node_5, children: ['node_8', 'node_13', 'node_14', 'node_19', 'node_20', 'node_21'], parents: ['Input']\n",
      "node: node_6, children: ['node_8', 'node_13', 'node_14', 'node_19', 'node_20', 'node_21'], parents: ['Input']\n",
      "node: node_8, children: ['node_13', 'node_14', 'node_19', 'node_20', 'node_21'], parents: ['node_4', 'node_5', 'node_6']\n",
      "node: node_13, children: ['node_14', 'node_19', 'node_20', 'node_21'], parents: ['node_4', 'node_5', 'node_6', 'node_8']\n",
      "node: node_14, children: ['node_19', 'node_20', 'node_21'], parents: ['node_4', 'node_5', 'node_6', 'node_8', 'node_13']\n",
      "node: node_19, children: ['node_20', 'node_21'], parents: ['node_4', 'node_5', 'node_6', 'node_8', 'node_13', 'node_14']\n",
      "node: node_20, children: [], parents: ['node_4', 'node_5', 'node_6', 'node_8', 'node_13', 'node_14', 'node_19']\n",
      "node: node_21, children: [], parents: ['node_4', 'node_5', 'node_6', 'node_8', 'node_13', 'node_14', 'node_19']\n",
      "[INFO: BioExp Graphs] Causal Relation between: node_21, node_25; edge weights: 0.23344047920163014\n",
      "[INFO: BioExp Graphs] Causal Relation between: node_21, node_28; edge weights: 0.1695996884627222\n",
      "[INFO: BioExp Graphs] Causal Relation between: node_21, node_29; edge weights: 0.170011790156962\n",
      "[INFO: BioExp Graphs] Causal Relation between: node_21, node_30; edge weights: 0.2000766947593952\n",
      "[INFO: BioExp Graphs] Causal Relation between: node_21, node_35; edge weights: 0.07552912364453256\n",
      "node: Input, children: ['node_4', 'node_5', 'node_6'], parents: []\n",
      "node: node_4, children: ['node_8', 'node_13', 'node_14', 'node_19', 'node_20', 'node_21'], parents: ['Input']\n",
      "node: node_5, children: ['node_8', 'node_13', 'node_14', 'node_19', 'node_20', 'node_21'], parents: ['Input']\n",
      "node: node_6, children: ['node_8', 'node_13', 'node_14', 'node_19', 'node_20', 'node_21'], parents: ['Input']\n",
      "node: node_8, children: ['node_13', 'node_14', 'node_19', 'node_20', 'node_21'], parents: ['node_4', 'node_5', 'node_6']\n",
      "node: node_13, children: ['node_14', 'node_19', 'node_20', 'node_21'], parents: ['node_4', 'node_5', 'node_6', 'node_8']\n",
      "node: node_14, children: ['node_19', 'node_20', 'node_21'], parents: ['node_4', 'node_5', 'node_6', 'node_8', 'node_13']\n",
      "node: node_19, children: ['node_20', 'node_21'], parents: ['node_4', 'node_5', 'node_6', 'node_8', 'node_13', 'node_14']\n",
      "node: node_20, children: [], parents: ['node_4', 'node_5', 'node_6', 'node_8', 'node_13', 'node_14', 'node_19']\n",
      "node: node_21, children: [], parents: ['node_4', 'node_5', 'node_6', 'node_8', 'node_13', 'node_14', 'node_19']\n",
      "[INFO: BioExp Graphs] Causal Relation between: node_25, node_28; edge weights: 0.17022074570633583\n",
      "[INFO: BioExp Graphs] Causal Relation between: node_25, node_29; edge weights: 0.16810958902679943\n",
      "[INFO: BioExp Graphs] Causal Relation between: node_25, node_30; edge weights: 0.1993123915833176\n",
      "[INFO: BioExp Graphs] Causal Relation between: node_25, node_35; edge weights: 0.0769827798692542\n",
      "node: Input, children: ['node_4', 'node_5', 'node_6'], parents: []\n",
      "node: node_4, children: ['node_8', 'node_13', 'node_14', 'node_19', 'node_20', 'node_21'], parents: ['Input']\n",
      "node: node_5, children: ['node_8', 'node_13', 'node_14', 'node_19', 'node_20', 'node_21'], parents: ['Input']\n",
      "node: node_6, children: ['node_8', 'node_13', 'node_14', 'node_19', 'node_20', 'node_21'], parents: ['Input']\n",
      "node: node_8, children: ['node_13', 'node_14', 'node_19', 'node_20', 'node_21'], parents: ['node_4', 'node_5', 'node_6']\n",
      "node: node_13, children: ['node_14', 'node_19', 'node_20', 'node_21'], parents: ['node_4', 'node_5', 'node_6', 'node_8']\n",
      "node: node_14, children: ['node_19', 'node_20', 'node_21'], parents: ['node_4', 'node_5', 'node_6', 'node_8', 'node_13']\n",
      "node: node_19, children: ['node_20', 'node_21'], parents: ['node_4', 'node_5', 'node_6', 'node_8', 'node_13', 'node_14']\n",
      "node: node_20, children: [], parents: ['node_4', 'node_5', 'node_6', 'node_8', 'node_13', 'node_14', 'node_19']\n",
      "node: node_21, children: [], parents: ['node_4', 'node_5', 'node_6', 'node_8', 'node_13', 'node_14', 'node_19']\n",
      "[INFO: BioExp Graphs] Causal Relation between: node_28, node_35; edge weights: 0.07758963281908353\n",
      "node: Input, children: ['node_4', 'node_5', 'node_6'], parents: []\n",
      "node: node_4, children: ['node_8', 'node_13', 'node_14', 'node_19', 'node_20', 'node_21'], parents: ['Input']\n",
      "node: node_5, children: ['node_8', 'node_13', 'node_14', 'node_19', 'node_20', 'node_21'], parents: ['Input']\n",
      "node: node_6, children: ['node_8', 'node_13', 'node_14', 'node_19', 'node_20', 'node_21'], parents: ['Input']\n",
      "node: node_8, children: ['node_13', 'node_14', 'node_19', 'node_20', 'node_21'], parents: ['node_4', 'node_5', 'node_6']\n",
      "node: node_13, children: ['node_14', 'node_19', 'node_20', 'node_21'], parents: ['node_4', 'node_5', 'node_6', 'node_8']\n",
      "node: node_14, children: ['node_19', 'node_20', 'node_21'], parents: ['node_4', 'node_5', 'node_6', 'node_8', 'node_13']\n",
      "node: node_19, children: ['node_20', 'node_21'], parents: ['node_4', 'node_5', 'node_6', 'node_8', 'node_13', 'node_14']\n",
      "node: node_20, children: [], parents: ['node_4', 'node_5', 'node_6', 'node_8', 'node_13', 'node_14', 'node_19']\n",
      "node: node_21, children: [], parents: ['node_4', 'node_5', 'node_6', 'node_8', 'node_13', 'node_14', 'node_19']\n",
      "[INFO: BioExp Graphs] Causal Relation between: node_29, node_35; edge weights: 0.0737200797972659\n",
      "node: Input, children: ['node_4', 'node_5', 'node_6'], parents: []\n",
      "node: node_4, children: ['node_8', 'node_13', 'node_14', 'node_19', 'node_20', 'node_21'], parents: ['Input']\n",
      "node: node_5, children: ['node_8', 'node_13', 'node_14', 'node_19', 'node_20', 'node_21'], parents: ['Input']\n",
      "node: node_6, children: ['node_8', 'node_13', 'node_14', 'node_19', 'node_20', 'node_21'], parents: ['Input']\n",
      "node: node_8, children: ['node_13', 'node_14', 'node_19', 'node_20', 'node_21'], parents: ['node_4', 'node_5', 'node_6']\n",
      "node: node_13, children: ['node_14', 'node_19', 'node_20', 'node_21'], parents: ['node_4', 'node_5', 'node_6', 'node_8']\n",
      "node: node_14, children: ['node_19', 'node_20', 'node_21'], parents: ['node_4', 'node_5', 'node_6', 'node_8', 'node_13']\n",
      "node: node_19, children: ['node_20', 'node_21'], parents: ['node_4', 'node_5', 'node_6', 'node_8', 'node_13', 'node_14']\n",
      "node: node_20, children: [], parents: ['node_4', 'node_5', 'node_6', 'node_8', 'node_13', 'node_14', 'node_19']\n",
      "node: node_21, children: [], parents: ['node_4', 'node_5', 'node_6', 'node_8', 'node_13', 'node_14', 'node_19']\n",
      "[INFO: BioExp Graphs] Causal Relation between: node_30, node_35; edge weights: 0.07731681429801361\n",
      "node: Input, children: ['node_4', 'node_5', 'node_6'], parents: []\n",
      "node: node_4, children: ['node_8', 'node_13', 'node_14', 'node_19', 'node_20', 'node_21'], parents: ['Input']\n",
      "node: node_5, children: ['node_8', 'node_13', 'node_14', 'node_19', 'node_20', 'node_21'], parents: ['Input']\n",
      "node: node_6, children: ['node_8', 'node_13', 'node_14', 'node_19', 'node_20', 'node_21'], parents: ['Input']\n",
      "node: node_8, children: ['node_13', 'node_14', 'node_19', 'node_20', 'node_21'], parents: ['node_4', 'node_5', 'node_6']\n",
      "node: node_13, children: ['node_14', 'node_19', 'node_20', 'node_21'], parents: ['node_4', 'node_5', 'node_6', 'node_8']\n",
      "node: node_14, children: ['node_19', 'node_20', 'node_21'], parents: ['node_4', 'node_5', 'node_6', 'node_8', 'node_13']\n",
      "node: node_19, children: ['node_20', 'node_21'], parents: ['node_4', 'node_5', 'node_6', 'node_8', 'node_13', 'node_14']\n",
      "node: node_20, children: [], parents: ['node_4', 'node_5', 'node_6', 'node_8', 'node_13', 'node_14', 'node_19']\n",
      "node: node_21, children: [], parents: ['node_4', 'node_5', 'node_6', 'node_8', 'node_13', 'node_14', 'node_19']\n",
      "node: Input, children: ['node_4', 'node_5', 'node_6'], parents: []\n",
      "node: node_4, children: ['node_8', 'node_13', 'node_14', 'node_19', 'node_20', 'node_21'], parents: ['Input']\n",
      "node: node_5, children: ['node_8', 'node_13', 'node_14', 'node_19', 'node_20', 'node_21'], parents: ['Input']\n",
      "node: node_6, children: ['node_8', 'node_13', 'node_14', 'node_19', 'node_20', 'node_21'], parents: ['Input']\n",
      "node: node_8, children: ['node_13', 'node_14', 'node_19', 'node_20', 'node_21'], parents: ['node_4', 'node_5', 'node_6']\n",
      "node: node_13, children: ['node_14', 'node_19', 'node_20', 'node_21'], parents: ['node_4', 'node_5', 'node_6', 'node_8']\n",
      "node: node_14, children: ['node_19', 'node_20', 'node_21'], parents: ['node_4', 'node_5', 'node_6', 'node_8', 'node_13']\n",
      "node: node_19, children: ['node_20', 'node_21'], parents: ['node_4', 'node_5', 'node_6', 'node_8', 'node_13', 'node_14']\n",
      "node: node_20, children: [], parents: ['node_4', 'node_5', 'node_6', 'node_8', 'node_13', 'node_14', 'node_19']\n",
      "node: node_21, children: [], parents: ['node_4', 'node_5', 'node_6', 'node_8', 'node_13', 'node_14', 'node_19']\n",
      "[INFO: BioExp Graphs] Causal Graph Generated\n"
     ]
    }
   ],
   "source": [
    "from BioExp.graphs.causal import CausalGraph\n",
    "from BioExp.helpers import utils\n",
    "\n",
    "metric = dice_label_coef # defined in helpers.losses\n",
    "CG = CausalGraph(model, weights_path, metric)\n",
    "\n",
    "\n",
    "with open('./Logs/{}/modified_clusters.cpickle'.format(seq), 'rb') as file:\n",
    "    concept_info = pickle.load(file)\n",
    "\n",
    "dataset_path = '../BioExp/sample_vol/brats/'\n",
    "def dataloader(nslice = 78):\n",
    "    def loader(img_path):\n",
    "        image, gt =  utils.load_vol_brats(img_path, slicen=nslice)\n",
    "        return image[:, :, seq_map[seq]][:,:, None], gt\n",
    "    return loader\n",
    "\n",
    "save_path = './Logs/{}/Graphs/causal'.format(seq)\n",
    "os.makedirs(save_path, exist_ok=True)\n",
    "CG.generate_graph(concept_info, \n",
    "                  dataset_path, \n",
    "                  dataloader(), \n",
    "                  edge_threshold = 0.25, \n",
    "                  save_path = save_path, \n",
    "                  max_samples=10)"
   ]
  },
  {
   "cell_type": "code",
   "execution_count": 7,
   "metadata": {},
   "outputs": [
    {
     "name": "stdout",
     "output_type": "stream",
     "text": [
      "node: Input, children: ['node_4', 'node_5', 'node_6'], parents: []\n",
      "node: node_4, children: ['node_8', 'node_13', 'node_14', 'node_19', 'node_20', 'node_21'], parents: ['Input']\n",
      "node: node_5, children: ['node_8', 'node_13', 'node_14', 'node_19', 'node_20', 'node_21'], parents: ['Input']\n",
      "node: node_6, children: ['node_8', 'node_13', 'node_14', 'node_19', 'node_20', 'node_21'], parents: ['Input']\n",
      "node: node_8, children: ['node_13', 'node_14', 'node_19', 'node_20', 'node_21'], parents: ['node_4', 'node_5', 'node_6']\n",
      "node: node_13, children: ['node_14', 'node_19', 'node_20', 'node_21'], parents: ['node_4', 'node_5', 'node_6', 'node_8']\n",
      "node: node_14, children: ['node_19', 'node_20', 'node_21'], parents: ['node_4', 'node_5', 'node_6', 'node_8', 'node_13']\n",
      "node: node_19, children: ['node_20', 'node_21'], parents: ['node_4', 'node_5', 'node_6', 'node_8', 'node_13', 'node_14']\n",
      "node: node_20, children: [], parents: ['node_4', 'node_5', 'node_6', 'node_8', 'node_13', 'node_14', 'node_19']\n",
      "node: node_21, children: [], parents: ['node_4', 'node_5', 'node_6', 'node_8', 'node_13', 'node_14', 'node_19']\n"
     ]
    }
   ],
   "source": [
    "import pickle\n",
    "\n",
    "graph_path = './Logs/{}/Graphs/causal/causal_graph.pickle'.format(seq)\n",
    "with open(graph_path, 'rb') as file:\n",
    "    graph_json = pickle.load(file)\n",
    "\n",
    "root_node = graph_json['rootNode']\n",
    "graph = graph_json['graph']\n",
    "\n",
    "graph.print(root_node)"
   ]
  },
  {
   "cell_type": "markdown",
   "metadata": {},
   "source": [
    "## Trail Estimation\n",
    "\n",
    "In case of deep learning network, the obtained concept graph is tree with depth $m$, where $m$ is number of layers specified by the user for interpretability. The trails are all the paths running from input to a pariticular leaf nodes used in an inference. The obtained trails encode the flow of concept level information used in making prediction.\n"
   ]
  },
  {
   "cell_type": "code",
   "execution_count": 12,
   "metadata": {
    "collapsed": true,
    "jupyter": {
     "outputs_hidden": true,
     "source_hidden": true
    }
   },
   "outputs": [
    {
     "name": "stdout",
     "output_type": "stream",
     "text": [
      "[INFO: BioExp Concept Identification] Identified Concept node_0 in layer conv2d_13\n",
      "[INFO: BioExp Concept Identification] Identified Concept node_6 in layer conv2d_15\n",
      "[INFO: BioExp Concept Identification] Identified Concept node_11 in layer conv2d_17\n",
      "[INFO: BioExp Concept Identification] Identified Concept node_22 in layer conv2d_20\n",
      "[INFO: BioExp Trails]===== New trail =====\n",
      "  (Input)  ->  (node_0)  ->  (node_6)  ->  (node_11)  ->  (node_22)  \n",
      "  (Input Image to a network)  ->  (Left Lower Brain boundary)  ->  (Brain boundary and tumor core)  ->  (Brain boundary and tumor core)  ->  (Tuomr core boundary (fine))  \n"
     ]
    }
   ],
   "source": [
    "from BioExp.graphs.trails import EstimateTrails\n",
    "from BioExp.helpers import utils\n",
    "\n",
    "image, gt = utils.load_vol_brats('../BioExp/sample_vol/brats/Brats18_CBICA_ASA_1', slicen=92)\n",
    "image = image[:, :, seq_map[seq]][:,:, None]\n",
    "    \n",
    "metric = dice_label_coef # defined in helpers.losses\n",
    "GT = EstimateTrails(model, weights_path, graph, root_node, metric)\n",
    "\n",
    "save_path = './Logs/{}/Graphs/trails'.format(seq)\n",
    "tr, td, V = GT.trails('Input', 'node_22', image, gt, save_path=save_path, visual=True)\n"
   ]
  },
  {
   "cell_type": "code",
   "execution_count": null,
   "metadata": {
    "collapsed": true,
    "jupyter": {
     "outputs_hidden": true,
     "source_hidden": true
    }
   },
   "outputs": [],
   "source": []
  },
  {
   "cell_type": "code",
   "execution_count": null,
   "metadata": {
    "collapsed": true,
    "jupyter": {
     "outputs_hidden": true,
     "source_hidden": true
    }
   },
   "outputs": [],
   "source": []
  },
  {
   "cell_type": "markdown",
   "metadata": {},
   "source": [
    "# references\n",
    "\n",
    "do-Calculus\n",
    "+ https://ftp.cs.ucla.edu/pub/stat_ser/r402.pdf\n",
    "+ https://plato.stanford.edu/entries/causal-models/do-calculus.html\n",
    "+ https://arxiv.org/pdf/1305.5506.pdf\n",
    "\n",
    "Graphs\n",
    "+ KF ch1 to ch3"
   ]
  },
  {
   "cell_type": "code",
   "execution_count": 10,
   "metadata": {},
   "outputs": [
    {
     "data": {
      "text/plain": [
       "0.974525981954718"
      ]
     },
     "execution_count": 10,
     "metadata": {},
     "output_type": "execute_result"
    }
   ],
   "source": [
    "def calc_MI(X,Y,bins):\n",
    "\n",
    "    c_XY = np.histogram2d(X,Y,bins)[0]\n",
    "    c_X = np.histogram(X,bins)[0]\n",
    "    c_Y = np.histogram(Y,bins)[0]\n",
    "\n",
    "    H_X = shan_entropy(c_X)\n",
    "    H_Y = shan_entropy(c_Y)\n",
    "    H_XY = shan_entropy(c_XY)\n",
    "\n",
    "    MI = H_X + H_Y - H_XY\n",
    "    return 2.*MI/(H_X + H_Y)\n",
    "\n",
    "def shan_entropy(c):\n",
    "    c_normalized = c / float(np.sum(c))\n",
    "    c_normalized = c_normalized[np.nonzero(c_normalized)]\n",
    "    H = -sum(c_normalized* np.log2(c_normalized))  \n",
    "    return H\n",
    "\n",
    "def MI(distA, distB, bins=100, random=100):\n",
    "    \"\"\"\n",
    "    \"\"\"\n",
    "    x = distA.reshape(distA.shape[0], -1)\n",
    "    y = distB.reshape(distB.shape[0], -1)\n",
    "\n",
    "    idxs = np.arange(x.shape[-1])\n",
    "    if random:\n",
    "        idxs = np.random.choice(idxs, random)\n",
    "\n",
    "    mi = []\n",
    "    for i in idxs:\n",
    "        mi.append(calc_MI(x[:, i], y[:,i], bins))\n",
    "    return np.mean(mi)\n",
    "\n",
    "\n",
    "x = np.random.randn(10, 32,32,64)\n",
    "y = np.random.randn(10, 32,32,64)\n",
    "\n",
    "MI(x, y)"
   ]
  },
  {
   "cell_type": "code",
   "execution_count": 18,
   "metadata": {},
   "outputs": [],
   "source": [
    "import numpy as np\n",
    "shape = (5, 5, 32)\n",
    "X = np.linspace(1, shape[0], shape[0])\n",
    "Y = np.linspace(1, shape[1], shape[1])\n",
    "Z = np.linspace(1, shape[2], shape[2])\n",
    "\n",
    "X, Y, Z = np.meshgrid(X,Y,Z, indexing='ij')"
   ]
  },
  {
   "cell_type": "code",
   "execution_count": 13,
   "metadata": {},
   "outputs": [],
   "source": [
    "assert (2,2)==(2,2)"
   ]
  },
  {
   "cell_type": "code",
   "execution_count": null,
   "metadata": {},
   "outputs": [],
   "source": []
  }
 ],
 "metadata": {
  "kernelspec": {
   "display_name": "Python 3",
   "language": "python",
   "name": "python3"
  },
  "language_info": {
   "codemirror_mode": {
    "name": "ipython",
    "version": 3
   },
   "file_extension": ".py",
   "mimetype": "text/x-python",
   "name": "python",
   "nbconvert_exporter": "python",
   "pygments_lexer": "ipython3",
   "version": "3.6.10"
  }
 },
 "nbformat": 4,
 "nbformat_minor": 4
}
